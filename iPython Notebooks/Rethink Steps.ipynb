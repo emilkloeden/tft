{
 "cells": [
  {
   "cell_type": "markdown",
   "metadata": {},
   "source": [
    "# Rethink Steps\n",
    "## Second part of process, import output of Scraping into RethinkDB\n",
    "### Then come up with some other things to do"
   ]
  },
  {
   "cell_type": "markdown",
   "metadata": {},
   "source": [
    "## Imports and global variables"
   ]
  },
  {
   "cell_type": "code",
   "execution_count": 34,
   "metadata": {
    "collapsed": true
   },
   "outputs": [],
   "source": [
    "import rethinkdb as r\n",
    "import os\n",
    "import json\n",
    "from pprint import pprint\n",
    "\n",
    "wd = './tft'\n",
    "TAFE_COURSES_IMPORT_JSON_FILE = os.path.join(wd, 'tafe-sa-qualifications1.json')\n",
    "ASCED_INPUT_FILE = os.path.join(wd, 'raw_foes.txt')\n",
    "\n",
    "what_interests_me = [\n",
    "    {\n",
    "        \"topic\": \"The 'Sciences'\", \n",
    "        \"broad_foes\": [\"01\", \"05\", \"06\"]\n",
    "    },\n",
    "    {\n",
    "        \"topic\": \"Making things\", \n",
    "        \"broad_foes\" :[\"02\", \"03\",\"04\"]\n",
    "    },\n",
    "    {\n",
    "        \"topic\": \"The Arts and the Great Unknown\",  # (because 12 could be anything)\n",
    "        \"broad_foes\" : [\"09\", \"10\", \"12\"]\n",
    "    }, \n",
    "    {\n",
    "        \"topic\": \"People\", \n",
    "        \"broad_foes\" : [\"07\", \"08\", \"11\"]\n",
    "    },\n",
    "]\n",
    "\n",
    "conn = r.connect(\"localhost\", 28015)"
   ]
  },
  {
   "cell_type": "markdown",
   "metadata": {},
   "source": [
    "## Helper Functions"
   ]
  },
  {
   "cell_type": "code",
   "execution_count": 23,
   "metadata": {
    "collapsed": false
   },
   "outputs": [],
   "source": [
    "def connect_to_rethinkdb_instance(host='localhost', port=28015):\n",
    "    \"\"\"Wrapper over rethink.connect(). Returns a connection.\"\"\"\n",
    "    try:\n",
    "        conn = r.connect(host, port)\n",
    "        return conn\n",
    "    except:\n",
    "        print(\"Unable to connect to rethinkdb on\", host, \":\", port)\n",
    "        return\n",
    "\n",
    "    \n",
    "def load_json_file(file_name):\n",
    "    \"\"\"Loads a JSON file\"\"\"\n",
    "    with open(file_name, 'r') as f:\n",
    "        return json.load(f)\n",
    "    \n",
    "    \n",
    "def load_json_file_into_array(file_name):\n",
    "    \"\"\"Loads a file in JSON format to a list. Returns None if file is not an array.\"\"\"\n",
    "    array = load_json_file(file_name)\n",
    "    if isinstance(array, list):\n",
    "        return array\n",
    "    else:\n",
    "        print('Imported file must be a list.')\n",
    "    \n",
    "    \n",
    "def create_table_if_not_exists(conn, table_name, db_name='test'):\n",
    "    \"\"\"Creates a table if it doesn't exist\"\"\"\n",
    "    try:\n",
    "        r.db(db_name).table_create(table_name).run(conn)\n",
    "    except:\n",
    "        print(table_name, \"exists on \", db_name)\n",
    "\n",
    "        \n",
    "def get_table_length(conn, table_name, db_name='test'):\n",
    "    \"\"\"Returns an integer value, number of records in a table\"\"\"\n",
    "    return r.db(db_name).table(table_name).count().run(conn)\n",
    "\n",
    "\n",
    "def table_is_empty(conn, table_name, db_name='test'):\n",
    "    \"\"\"Returns True if a table has 0 records\"\"\"\n",
    "    return get_table_length(conn, table_name, db_name) == 0\n",
    "\n",
    "\n",
    "def insert_data_into_table(conn, data, table_name, db_name='test'):\n",
    "    \"\"\"Wrapper over rethink.table(x).insert(data)\"\"\"\n",
    "    return r.db(db_name).table(table_name).insert(data).run(conn)\n",
    "\n",
    "    \n",
    "def import_if_not_exists(file_name, table_name, db_name='test', host='localhost', port=28015):\n",
    "    \"\"\"Imports a JSON file into a table\"\"\"\n",
    "    table_path = db_name + \".\" + table_name\n",
    "    \n",
    "    conn = connect_to_rethinkdb_instance(host, port)\n",
    "    \n",
    "    array = load_json_file_into_array(file_name)\n",
    "    length = len(array)\n",
    "    \n",
    "    new_table = create_table_if_not_exists(conn, table_name, db_name)\n",
    "    \n",
    "    # Insert records into table ONLY if table is empty\n",
    "    if table_is_empty(conn, table_name, db_name):\n",
    "        print(length, \"records inserted into\", table_path)\n",
    "        return insert_data_into_table(conn, array, table_name, db_name)\n",
    "    else:\n",
    "        print(table_path, \"is not empty, import aborted.\")\n",
    "\n",
    "\n",
    "def drop_table(conn, table_name, db_name='test'):\n",
    "    \"\"\"Wrapper over r.table_drop(table_name)\"\"\"\n",
    "    return r.db(db_name).table_drop(table_name).run(conn)\n",
    "\n",
    "\n",
    "def truncate(conn, table_name, db_name='test'):\n",
    "    \"\"\"Wrapper over r.table(table_name).delete()\"\"\"\n",
    "    return r.db(db_name).table(table_name).delete().run(conn)"
   ]
  },
  {
   "cell_type": "markdown",
   "metadata": {},
   "source": [
    "# Tests and finally end up with the data in 'tafe_courses' table"
   ]
  },
  {
   "cell_type": "code",
   "execution_count": 27,
   "metadata": {
    "collapsed": false
   },
   "outputs": [
    {
     "name": "stdout",
     "output_type": "stream",
     "text": [
      "IMPORT IF NOT EXISTS: Should be 1329 Records or 0 if table already exists\n",
      "tafe_courses exists on  test\n",
      "test.tafe_courses is not empty, import aborted.\n",
      "None\n"
     ]
    }
   ],
   "source": [
    "print(\"\"\"IMPORT IF NOT EXISTS: Should be 1329 Records or 0 if table already exists\"\"\")\n",
    "print(import_if_not_exists(TAFE_COURSES_IMPORT_JSON_FILE, 'tafe_courses'))"
   ]
  },
  {
   "cell_type": "code",
   "execution_count": 28,
   "metadata": {
    "collapsed": false
   },
   "outputs": [
    {
     "name": "stdout",
     "output_type": "stream",
     "text": [
      "GET_TABLE_LENGTH: Should be 1329 Records\n",
      "1329\n"
     ]
    }
   ],
   "source": [
    "print(\"\"\"GET_TABLE_LENGTH: Should be 1329 Records\"\"\")\n",
    "print(get_table_length(conn, 'tafe_courses'))"
   ]
  },
  {
   "cell_type": "code",
   "execution_count": 29,
   "metadata": {
    "collapsed": false
   },
   "outputs": [
    {
     "name": "stdout",
     "output_type": "stream",
     "text": [
      "TRUNCATE: Should be 0 records\n",
      "{'skipped': 0, 'inserted': 0, 'deleted': 1329, 'unchanged': 0, 'replaced': 0, 'errors': 0}\n"
     ]
    }
   ],
   "source": [
    "print(\"\"\"TRUNCATE: Should be 0 records\"\"\")\n",
    "print(truncate(conn, 'tafe_courses'))"
   ]
  },
  {
   "cell_type": "code",
   "execution_count": 30,
   "metadata": {
    "collapsed": false
   },
   "outputs": [
    {
     "name": "stdout",
     "output_type": "stream",
     "text": [
      "TABLE_IS_EMPTY: Should be True\n",
      "True\n"
     ]
    }
   ],
   "source": [
    "print(\"\"\"TABLE_IS_EMPTY: Should be True\"\"\")\n",
    "print(table_is_empty(conn, 'tafe_courses'))"
   ]
  },
  {
   "cell_type": "code",
   "execution_count": 31,
   "metadata": {
    "collapsed": false
   },
   "outputs": [
    {
     "name": "stdout",
     "output_type": "stream",
     "text": [
      "DROP_TABLE\n",
      "{'config_changes': [{'old_val': {'durability': 'hard', 'shards': [{'primary_replica': 'Emils_MacBook_Air_local_j4s', 'nonvoting_replicas': [], 'replicas': ['Emils_MacBook_Air_local_j4s']}], 'primary_key': 'id', 'indexes': [], 'id': '3ad0321c-7d5b-4963-bcf8-9f6fbd6c207d', 'write_acks': 'majority', 'name': 'tafe_courses', 'db': 'test'}, 'new_val': None}], 'tables_dropped': 1}\n",
      "IMPORT_IF_NOT_EXISTS: Should be 1329 records\n",
      "1329 records inserted into test.tafe_courses\n",
      "{'skipped': 0, 'inserted': 1329, 'deleted': 0, 'unchanged': 0, 'replaced': 0, 'generated_keys': ['1ab1022e-42ed-44ec-b0d9-bdd7d1834862', '71744280-1d51-484a-8bac-0909d16e0f89', '0fc44e23-3ff5-4198-9d14-f88a6683a588', '4a84c2fb-79e2-4f94-b45d-2a9ea0cc3168', 'ba5a3c49-c050-46dd-8657-fa660eca01cb', '5f1af41e-9362-4cad-b4ec-756ee68f412b', 'b4fbd613-d86c-437b-9388-0acca29bb7c7', '44be4c0d-213c-4d4d-99d8-c1c30bdc3adf', 'c6668d69-0222-4647-be2e-d244342d06c6', '97dc45e1-1034-4e5f-bca2-203673d2ac80', 'b398f51e-e180-4c47-8828-f24897c9f87f', '562ad0c9-3b96-40c9-a05e-26475ff156f6', 'c1331fe9-0e96-4eb7-98db-d8e7c65cafd5', '62e3c4c9-974d-4289-baef-e0b596c657bf', 'ec219298-45f7-4c97-8f35-5bc9d5e07abe', '2cb00b1d-3703-4414-ae26-7bd497cf007e', '53886021-0ad0-4fc8-87d3-a9b122851e5f', '6fa206de-07b4-4483-b6f6-5e80aecac7d4', '4aa81a7a-03df-4db6-8c4e-7504d324d447', '263f20be-7e38-4e57-8213-c79ed19d29cc', '51c69c32-1689-4494-9a8c-f500566ad2a5', 'fdfe4a4e-dd87-4ad6-b445-d844457b9f48', '83a7ce69-29bd-46c8-aebb-1b81d9b4d3d9', '790fbcda-c00c-44b5-bfc8-491d0fedd388', 'c68aee38-debc-478e-afc1-f42386bb12f6', 'f8f79564-27ff-4aae-84af-59dd4a63dd56', '71a3b229-2538-4087-aeb3-181f24bb9d16', '0854022c-1120-42be-ab64-d8c073107f63', 'f3133ab6-b49d-42a6-a8b0-9a6edf490a55', 'b3f3a02a-01e8-4dde-bc6d-cc0363c1762a', '949b8d30-44ab-4da6-971e-adf5391d693b', 'ef1006b1-a4b3-47b0-b2ae-bfb599e31e7b', '6c0b8bb6-e559-4349-b2ce-ddcd9cf853ed', '43a90165-5747-4b76-bc64-7753e09eb005', '278ce608-6c31-4604-90e0-ec5f06641227', 'a9963472-94b8-45ff-8900-62a579dcb9f9', '53adfa20-7fd6-4e5c-a83b-1d17d88a9d24', '2ba95e27-ccd6-4f3d-a829-b402cadb9e7a', '970297fa-b303-477e-92a2-ca34b0cbc028', 'd808cbb8-43fe-47c8-83a1-fe60914544c6', 'de0bad97-cfca-4c73-afcd-4536aff0b8be', '9151b166-01f5-43e1-9391-b9811e2622a2', '3b8082cc-eba3-44c9-a3dd-4215cecfc22e', 'fa536cb6-6f19-4ec9-9b56-d406e1fd1b07', '3778d235-724c-491f-9f9f-b3f5355a18f6', 'f9d0b8f6-c615-4b26-b298-3391335e0b0c', 'fd3428fb-da6b-4f73-889e-c3a4a4f77456', '3c3268b5-6e4f-4384-9f52-72128dbbc48b', '480d0514-e6c9-4a7c-aa3b-ce5d5494c5d1', '66665012-5028-4ee7-8b55-6a9f786d0bec', '62531589-ce86-4e32-bb00-5f90de55fc1b', '6f17cfb3-1f36-4e28-a0cd-6d5b82a40feb', 'e4b829a1-1235-445b-af7e-c5252cc84687', 'b60ce6f5-5f80-44ce-b938-a830db9e0db4', 'c5ae3154-f36a-464c-a30b-ac15b80a726e', '4b904a89-ebc4-4af5-8ff5-7ecf8e8b5323', 'ba7c0c0a-44b9-4610-8afe-b52962da4252', '44eedfb1-47f2-4293-b636-b0a6261b3eb6', '58d9c7a9-9ea2-48eb-8b60-9e4601937a6c', '79fa34e7-1260-4c4a-84db-4a092aa9197e', 'c41b3f13-0e7a-4a68-a41b-23b1e5b8be67', 'af34ed30-1b3d-4c57-8ebb-1201c6850574', '3651027b-69f2-4771-80d3-fbf584afcd3b', '512f2870-f767-4937-b11a-6e90e723f58e', 'fa68774d-080b-40d9-bdab-1d8cb8b45649', '83e5e3ed-c033-4fe6-9f1d-6371f531a899', '9278771e-dcee-455b-b629-0da919ac4c59', '03238342-3fbb-429f-a537-37a101e5f4bf', '11319ef7-0dc7-489c-96b1-4da2a3b00267', '76ab4369-0baa-4c10-af0c-2375e98bc30a', '960ddd63-99ba-4705-b6d5-55cdf65a05d2', '81ea6f0d-d964-44dd-bfe3-d5dc44823ca7', 'b29ff7b4-4c2e-413c-bbfd-9aa71f0b54ab', '12798d4c-9a9e-426b-9e82-f01f987129bd', '40c2bb88-2160-4e0b-ab54-6d371f753bcb', '3e622ac2-6042-40e2-af9b-eeb192bd1c08', 'f0d7791b-4352-4786-95f9-97a85a4cc6c9', '417fa0b3-8fe2-41ee-b816-598a9138fb62', '99eda0b4-4b85-43b2-a363-607f859530a3', '017a0d39-714b-421d-96da-0ba3ef4e98a8', 'f87b069c-8ae1-4ff9-bfd3-6ef21c55a78d', 'edbfe7bf-5a2f-4802-b1eb-60c7cfb2a952', 'e50b2c9d-c743-4aaf-b059-ab208af62383', 'a7668931-4513-4c5d-ad6d-4e967d6a2542', '1dbdcc4a-a9a6-4310-82df-42f5e1dd0c3b', '28b02637-b43e-4efa-9f63-de06209b686e', '084ae52e-100e-4ee3-8e42-0ea8f0722852', '52e1d526-5460-4072-b0ce-8e0b4c6b6eb5', '825f0ecb-6db8-49e3-9e3b-e79f978433f2', '5c0c6e73-b0aa-42af-907b-aa12363ba2a9', '346990d3-2daa-45e3-b82b-20c5de210f03', '64e0428a-d0b9-485d-a440-91fe442851d0', '22aa9bba-4df0-4140-9f43-5198adb7b8be', '9e2bee2b-acd5-474f-8beb-7f932f50eb3b', '368d2738-81fa-4e51-b0bd-533c8ed89630', '301e1d64-f88a-4c9a-b05e-ae71c7621e3e', 'b7fd5398-c6a8-485d-83e2-68fcba6ee4b3', '77a15411-6fa2-4251-90fb-4527b0ae0d85', '00c359ea-45ea-45b1-8ff6-a056cac945e5', 'ccb4e98b-0b1c-42d5-b8f4-4bd512753b23', '3d2bdfc4-9ded-48ca-8293-c2b1ae44e997', '07656208-dfc5-4b2d-bbc9-3343d4371b73', 'e6a9c459-8c3b-48f4-82fc-af5d7c6ac7e5', 'd49b4b15-bc9e-4f85-9cdc-2951d0301dbb', '32fc2db4-dba1-4994-8fe3-7b68cc8790bf', '6d37ae4b-2605-40e3-9f5e-2bb5f92c6b41', '38acdd0e-a62b-48b5-9a4e-fef3a7137600', '4f29912e-fae7-48cc-89d8-76224b2c0e02', 'f9644457-d0f9-432d-9e45-41763b38ed0f', 'd57b363b-10f9-4df5-998a-61510ec803d5', '5ec6acf6-98a7-45b0-b489-966ea7cade4a', '210cb899-c6b0-4f05-85e0-08a94b1ad447', '4def950d-2801-4593-a30f-7eb03a924d5b', 'a5d80455-5370-4dee-8297-e7fe57474221', 'cc32c282-07e6-42e4-8d4c-af0371b5f2e9', '8f8bb443-bbbc-445d-9605-e10f27a5570a', 'de940b00-3e27-4633-9634-9c8e68897843', '4560cbc4-285f-4350-ad3a-94374e5cb234', '8974ad5e-7a9f-4006-b623-3bfddb77726e', '62138d35-e77a-4069-bbcf-746e1c6b5549', '2ce99c5e-bdea-4c00-b600-213ed020cd78', '2f7ccb6c-8096-4a1f-beb8-3bd727f8636b', '56f39f15-b57a-4e98-836c-efda947cdb11', '92807e4d-74c0-409a-92d7-de1478c90813', '4792dcf6-97b1-459e-a700-fc3e12860f5b', '71cd516f-54de-4e54-b0b6-e1a783e0af44', 'fc2455f4-0cda-429f-9a59-e922d2052419', 'd1fe12ea-c7ef-4b56-91f8-4815cddcf81d', 'a710c424-769b-4519-ad1c-30af5cffe9ad', '0b74fc4f-2fba-42fb-bc9f-6ba6d5ea5aa7', '4c62da2b-d584-4cf9-8709-2d5c83894558', '4fc4c79f-a018-4d9a-a1f4-8f72aecbe5fa', '48387298-adc1-4517-b817-ba6591f2edfe', '41d3ecab-0c25-4880-820c-b4e3f71aab82', '794e948d-ed29-493b-bb66-91d25327ce42', 'a74346f9-7929-4200-8fe5-ced7c69b9c30', '3cb30bc1-9046-43d1-a49b-63a07148672d', 'fdf89226-8d0d-4452-94b6-12e1bf9daa59', '29e062b4-dc35-4ae9-a51d-22fe76685c38', 'c98a4694-a837-4a4a-b46a-fdae3be77576', 'ff71e834-efd6-4d86-896c-0838933b3c70', '42cc7c50-57e5-4fa4-9ecc-93bfef774d93', '758cc3d7-3e56-407a-87cf-c1623ee1a556', '0f3abdb2-af36-44f4-be03-9bed1373a874', '309c7215-fb1d-43b2-b2d1-6e01f0158bc4', 'b2292886-85dd-4caf-a617-a2b7cf042e9a', '6387c5b0-34e7-41a6-86d6-4e3b53de5469', '0ceeaa9e-1abb-415a-a728-b25141dfdd7e', '1c870bcb-be42-4f74-bd8f-28e78a13715f', '6a6e7535-b4ed-406d-8470-306ec154e2a3', 'd35101e4-901e-4b2d-ad9b-6485fbacbcf9', 'b8ff7a5a-69cf-4314-b350-fb1c549fe461', '3b672c19-6549-464d-804d-b9ab1c6069d7', '49aadd5e-f40a-429e-a8b4-afbf4f3716cb', '58aaaf7e-da9e-4f70-8407-dcb3f612003d', '59a0fb5b-2982-461d-b768-05de257278f0', 'bef0313c-9398-4ab7-9c46-39d95e434805', '91320bc7-2317-49ea-ad64-430e507ba825', 'c89d901c-5757-4a4c-b3cc-b4dd37af525d', '099b0e6d-99eb-4b1a-afe3-1a90d5e3014f', '4e1bdf34-e2e9-4c51-a2e1-605bdb5d1296', '8cc66e9b-546a-48fc-8a22-3e28a3f8e5b9', 'b78d6a0a-3037-4193-a164-3b7d5b0ccd14', 'b73df7c5-5423-4b01-8aea-7b9eb9417723', '8a731a90-f5d5-4d35-8653-1dd912817713', '29c9bca8-0868-41b8-8040-04c082dcafe6', 'a23ed682-1868-46f9-a1f0-99b3d2933e19', '560ceba3-e033-4713-8ad9-3480f3b954fd', 'd651bd57-f8af-4385-b2cb-8f4005b091ab', '8e1ce57a-cdc9-44df-b23a-caf2d48197b1', 'fdfa37e1-8844-48ff-8a57-db4b56dd679a', '4995827c-5418-4d74-99df-85d84f92b00d', '7e83f928-f830-4ddb-992d-8c113300eece', 'a3d8dfeb-7e06-46fe-99c6-bfb5fc5ef05e', 'b8eada4b-d095-481a-9fcc-c9e9e5b5d02e', '7795cf7d-7655-47af-b5ca-a40494e6399e', '441c8f11-fdaf-4482-8457-dbdecd273cb6', 'f70d2972-2c20-460a-bafb-30b77a441b16', '03a7ebb5-37ff-4101-a0ab-1dda650c632f', '941adb12-c74d-4b13-8e20-29625c46df63', 'e1eebb78-70d6-4c7a-8b13-412ed090e4d2', '4d4d87d0-8da2-483b-b81d-4fb5e494abec', 'a9977a46-0f68-4c95-ba83-14c68624a05e', 'cd5fdf8d-6e7d-42f9-8015-b664bab24761', '4a2e94a7-aa25-48af-b265-e29c80637579', 'af0fac19-a576-4b6d-b22a-beee6759c668', '99b6a805-74e5-4753-8d28-277aa6052ebe', '926e69c6-e6d3-482e-aedf-5a65354a014e', '8114fb37-50b5-45c2-85c0-ffd9bab911a6', '161f75b9-37e2-410d-b7a4-6cf5b12e1f6c', '21acf70f-ec05-454b-aebc-c3f36a16f0b3', '6d3fbea9-c0b8-41e7-b40a-d2acf8a14311', '58810f02-a673-4d02-a90a-8320645725a0', 'aacc0aa2-f5a0-4159-b06e-8a43b7918965', 'da4f45de-7c18-4d5f-b7f3-742822eacda7', 'cb8508d2-a13b-4e8f-b048-56c97150d3a5', 'c07bbad9-f100-47a4-915e-2cbad0364467', 'a6f059f2-5883-4715-afaa-86e79a752093', 'af71a24e-785f-40d0-a1b1-7a98d164cd59', '41824ef3-d6b2-4c89-be6e-43d8aaf241e2', '79800ed6-7328-41f7-9386-e3139c3f9b1d', 'bf9b22ea-0f3a-4f30-bae4-c3e600c0e226', 'c87039f1-c8db-4542-9c4b-1585057e0375', '86210a69-a5e2-4f73-b1a3-828dd7122b2c', '5c79df9d-8ee0-4941-aa79-2af914c0575c', '5a12c5c1-a287-480e-acf0-98845eeae506', 'e5691d9b-1710-4ec9-be64-371182f07891', '0cec061b-fe0f-40eb-908b-a4099dccc5e4', '56924d65-a2dd-4a8f-a4e9-f32e1f70441e', '7261fec1-4999-4934-884b-629aba0bf728', '0faa6fa4-6802-4114-8e06-33a0ac9b44a4', '0cef6d1c-369e-475e-a4b6-e6d8ca82a88b', 'aba1a4ea-c1e5-44e8-b202-ac38f8eb1ca3', 'ff97301c-19ba-4e72-a0eb-7b67d9789a99', '77336399-67db-415a-be53-5d4051d9ae6c', 'a80e6ab3-2d24-4de1-9e8a-2b7e74a6e6b0', 'dbab5278-e936-4928-9057-f750e189e7b5', 'edf9f5de-4908-468c-b00e-c4ee5017b6c4', '9fd3a3e6-316d-498a-b4eb-85a824bee2ac', '272979bd-bb78-4e43-bf80-bb650102430e', '804269ae-7a00-4b39-917b-9e60de112c3b', '1c2f7e61-d5db-4bf2-92c8-b823bacfdb9a', '3115c89c-7c59-41f3-beff-bed72159b0f4', 'd78017c6-13e2-4478-affa-04fb276a27b2', 'eb8cdfd9-b251-4351-a6c6-3fab70085245', 'df28c718-2415-40c5-8227-342a7c030a66', 'd68ff285-87d9-43fa-a7de-082df8f86e2d', '5dd5ce0b-b66d-4bbc-bab1-ad307e7db04b', '229544cc-5dc9-4a78-b94d-58609c92a535', 'c715bbe7-28e2-43ee-8b19-fb720fbf067c', 'c91a0de8-02d2-4a2d-b6c9-779b9eb74a94', 'e80495cc-821c-4f3a-8007-bc9622c464ab', 'ff885ef9-0095-4049-801c-e07b2404f5b3', 'bda93cb2-bcaa-4697-aa6b-e5ab3ebec7f2', 'f95a6684-9a64-4398-8d9d-2d0ad6b3b3be', '05bd0cd3-4150-4393-8a35-ca5f87ac78c4', '536f5a42-54db-47dc-a1bf-35fe4c0dcd19', '6f5f92c4-cc44-4644-82ec-9fdc7cacd2ab', 'e5e593bd-7f25-4c07-9a8e-03a6ad25fbef', '8ca91dc7-7474-42ec-9a9e-1e6a34064a1b', '3f9f4b09-8a6f-4af5-8d2a-1724e7f52bd2', '28e57393-fa9d-48c3-81f8-5dad3c103401', 'af0d3c59-ff2e-414e-8cc9-735ba9914d56', '6f326972-e06f-482c-bbc7-b56b964a98b8', 'ba46e434-f394-482b-bc7a-b08020b89526', 'dbf58c55-c317-4183-9ff0-97ca74b638c8', '0f12052e-669f-41ad-bc7a-6e89e67dd09c', '81163cbd-3022-40b6-901c-e22e212300f3', '68991190-cd44-4f45-a7ee-c6186d2f5507', 'ea637ac4-1162-420f-9eb6-31e3dab225c3', '53e4bc44-3152-4a49-9492-a045aa9c9e21', '6ef607da-9b34-4de2-8e7b-13227ad879b2', '9c1af43f-fc98-4ba1-a7d8-ce8c5e33bd39', '75d67c85-b13f-4025-aed5-52612c09aa50', '9529bdf9-879f-46ff-88d4-3bd82ab6c191', '1e4ca1b2-23bb-43b0-b239-eaede8659b7e', '3fae3aa3-fd93-4ff5-bbe0-65edecc1f119', '9206b106-9d90-4359-8558-f45ac636562b', '3be7e0ac-afc7-466b-9942-da5ba737551d', 'be4dcf61-172f-4326-a359-431b65ea9337', '61198e7e-b6ba-4531-82e5-1a8c63689657', 'e712e59e-8592-4e0d-859c-f18db6d5227b', 'c6f32415-7898-472a-b602-db21f2493b69', '4ae03992-325f-4a8f-9e3f-8d16c80c1ac3', 'b7f6c60c-3726-484d-88ea-1ce91ced0fbc', '44d71f57-d643-4f7b-b8b2-fe20ccbba104', 'b001957d-cd3b-4abd-b8c7-09bb55a64d1c', '018c9543-e220-48a1-805c-87700be2ebcf', '10eb6f3f-14f0-4829-9887-27c86bf6d106', 'c9658667-593c-4863-a2d1-41b138407545', '3a5dbac1-4833-4eaf-9f95-74e738704e9e', 'e2a42876-944b-45d8-b15b-97ebb69b92bf', '0568f899-6412-44bb-ab12-c843014a3ae1', 'd0f3f8d5-a399-4c03-99c2-a45973ee8b7e', '2397c109-d904-4954-b8d0-961cca11f3cd', '14680af7-5963-4122-a6ba-1721ad82dccd', 'f701dbab-1f20-4805-be65-619ec85a8845', '9d43c585-9896-4073-9e5b-924ddf608167', '8bc47af2-c73c-4a84-9314-b967e747385a', '361f7892-9deb-412e-8151-f2efd21fa64f', 'fcf96d98-4eb5-492a-9fbf-ed79d8cb3fea', '1e53ddaa-ecc2-4c54-8b54-5d917caca1f6', 'dfc20f4d-db86-4398-a3e2-0a9045c43d52', '407f252a-184e-44c1-99f2-00e0cf82142e', '6ba524d1-a5d4-4509-82d8-0bc0da785202', '922e4f70-7976-462b-93f0-f798007359a0', '9ce7f6ee-4d13-43f3-a66a-a70868854784', '2f7f7a39-915b-4ad8-9807-23276c2759a4', '6834a0a2-e18c-4dc1-b248-8bb441ad6dc1', '403080f6-f7c1-49da-bf90-7b580bb7cb6b', 'c4412c38-200e-400e-a6d7-7ec34d3ab9fc', 'b52904c9-b5b1-499a-a312-10072667d43c', 'ad5a97b1-60b2-4b17-ba04-41878180d11a', '4d1445e9-e11f-435f-b10f-fb678df1429a', '474c277d-fe9f-4fa8-b1d2-585df9886995', 'effb4e5a-d408-49e7-89ad-a7f15ba365b1', 'f64ee7c6-e924-4f1e-b511-1746e375af61', '07bb5033-31d2-4b8a-9d36-adf32c76999c', '3f44a5bf-f56b-477f-b6d2-cd22d999261a', 'ded6de99-2304-4252-8553-1e673501a632', '0f8cc264-e7ab-45e7-b41a-3e1f4abdef89', '15ccfbc5-5938-4487-954f-483c128654b2', 'b362400b-8c12-4247-b7b1-6c66df6199f8', '3e84acce-bbc1-4d41-8e26-60f575f5a014', '17ca1585-69f3-42a1-936b-dafbfd5dd1b9', 'aadb4e54-5039-4432-8c6e-71075c6d4577', 'ada5de1b-3052-44b1-b4b8-011aeeee420b', '6befc271-abae-434a-b732-bbfbce7dac33', 'e1c69db3-b8f1-44b7-9dbb-9e99361e1c4c', 'af9f4162-457f-40a5-be3b-a801744fd0ae', '68a0501b-1673-4237-9663-95b131ac5119', '33185b65-e224-4295-bebe-238c87f31928', 'dbfa9d04-2aca-4e3b-8ba1-f66fc64c668f', 'c81d5e9f-1b8b-4704-86b9-c0b127f90bf9', '15812a9a-f969-4df7-ab14-0bc22e0b2f67', '46fe9511-c143-45f2-b40d-22d699e9d39d', '780b4045-fb34-49a5-aaf2-6e8ee2e88720', 'ddf41280-b776-49eb-8557-48a43f069aa0', 'f262e556-622a-4c1a-98ce-bde6ab083032', '3fad226c-c856-4893-be78-bdd93b2c1ce3', 'f0b45dd0-3876-41ed-a821-7ffd9402a8f0', '08dc7877-1647-43dc-9821-2b77cc0121cd', '43a3092a-0722-420c-b057-847bd6795bc3', '91bab30f-a8a6-4263-b08f-233686cd401b', 'a284e9c6-6e88-41a9-8630-4941245f34fd', 'f0a4808f-53c0-40e9-a411-d47025d419cc', '34f82393-4815-4d3f-ac90-af62c35852f3', '28b80e52-5e25-4ea2-9f17-4cb7e07b4230', 'b407bf6a-361c-402b-883a-1d712f7f337a', 'd69bad8e-9133-437f-928a-d834afbd449b', '62553c60-a0dd-47e4-af7c-8f897d679e03', 'd26234c8-5fa1-4f8a-b320-af0f29850fa8', '93491695-56f8-427c-bc35-09887c6cd541', '21dc07c9-d7a4-4a36-8586-92878d81a991', 'd8ccdc09-507e-4deb-8e1e-6d67ab531196', 'c40180b0-3369-459a-939f-f7adf00a7fcf', '16b1bfa8-8f09-4afe-8310-78a8c88ce843', '1b9b3056-ca04-4707-9a9c-e303f74cd580', 'c81238f7-f9b9-49de-b680-c58688e8e077', 'efe1103e-1cb1-4486-9c4d-2ebb3b5cad0c', '3d10d3d0-b821-4a6b-b127-d92998bddaf1', '2bd17539-6af4-4704-b704-0b74935b5c48', '2fa043b6-f31e-4c55-aa73-255334eb8fda', 'a9569e10-5095-4944-818e-38feb320192f', '4c1dcb2e-b5c9-471d-bbe8-055df3074faa', '2cd5a717-4eec-405f-8f6f-f648affa236d', '57ae724b-42a0-44e1-9b69-4e4f62e49146', '2c344731-2c43-4b40-b1ec-d650c186939d', 'dd1c6bfb-76d4-41b5-a664-de60b78ec820', '8f6c1ed8-538a-4166-ad04-a66ee7c5fcd1', '8264f784-c47e-4985-afce-467c95eaf86f', '152994e9-4de7-4a73-999e-0e5e2a3acb17', '1a6223f6-801c-4273-8f89-e79a77d6e003', '2f0a6fca-34c2-43c2-987f-07db255c2f19', '1225d5a0-4fe9-4c79-830e-52b3f30f1cbd', '7db90c84-59b1-45d5-a45f-b07e3a5e0688', '5f60f105-6525-4ca5-ab70-b8ecec2451bb', '91e81611-7a13-45de-a97b-a05f137a29a2', '5b771e5b-2eb1-46d2-99bf-91406f2e850d', '1df07e2a-553a-4c1f-aeba-a8f1dce8890a', 'be702ddb-1bf1-4ed7-9994-d5126d3cf6b7', '0e03824e-0327-441b-b62e-9b6ea7a688da', '91b32b25-8a80-4f1e-a7df-c3d2108ba481', '5f11f7fb-0385-4d05-906e-6a160a664f94', 'ffe8f88d-01f0-4c6a-b592-4738ee0fed26', '4a3351dc-d94c-48b0-824d-2bff25469bd5', 'c9861123-d3f3-43f9-9941-e3cefc803141', 'd96f2020-0ac7-4147-8f9e-7c2834ea3eca', '1f30211b-fa76-45f2-817b-137e2af4c13c', '2ce7e828-e5c5-4b0b-afa8-b58914a1fb63', 'a7121f1d-a0e7-440f-87a6-31e37c1c9152', '21d30ef4-7d97-48db-b8e4-7ee994199e55', '91a9b60e-1e90-4ea0-a78f-60567b92a9d1', '900526da-f157-41cd-9e44-1967d4727998', '3e69085f-370f-4c07-8518-54aae44a489e', '02be3c70-b8b0-40f5-b52c-cd6f29f7fc80', '098c31de-017c-488e-9c86-6e2499d14524', 'd1155826-56cf-434b-846a-3e87e0a102b5', '0df28d37-44d4-4fdb-94b2-eb04aa292188', 'db3cd1d4-9759-4fa1-a453-c1dacd0f3632', 'a9f9b1b7-256a-4b8d-ab57-a26cf8fab87a', 'bfe74543-a6d3-48f5-97bb-52b7a640148b', 'f53923cf-bc4a-4ed8-b210-1ff92098d42a', '2b48e9f7-a629-4319-995a-447267e345e1', '37fe9c11-f03a-474a-a1fc-8ab2fed4cc8b', 'ec595ab2-c0ce-4f78-a081-d7388eb5246f', '948a5a5c-daae-43ab-93ed-90ec07efb9cb', 'ed5d13a6-9f90-418f-8e54-354c7f9eea9d', 'cd0cdf34-ee5f-488f-bda1-26dc7d070918', '89b96294-04dc-4edc-aae7-6d8de070ff74', '11e06318-f765-4b85-95de-33b6da7f946d', '1d67ab07-24e0-4e95-9048-dae278a1f54c', '39543907-4ea3-47fa-af22-51fed99e70e8', 'bf019b53-f5a3-4e0f-a18f-7fb42f2201bd', '54084408-92eb-4a09-a31e-3ceeeaa1eb67', 'fc9cc7c6-81ee-45ee-b021-6401096793b2', '0c8acca0-7a8e-4631-bd63-e88fb4064e39', '967450cf-f096-4ac4-9dbe-cee32a3f29c7', '2280f6c5-5db4-4043-ab87-af404cbb19d2', 'ceab0df1-34a0-4404-b7ac-6196d3723b2b', 'f31a6ef3-9929-467b-932f-9edf20eb0044', '88b2b610-bccf-4449-ac8c-8a0ac856c1c8', '4df55d89-78d3-4136-b90f-b5a42c1734f2', 'c9292770-ba4c-46ed-9cf6-f644b35a5eaf', '721875c3-eedc-4a89-9f59-fe383dfc9210', '36c3e2cb-7cca-4864-85fe-ab97ade99acb', 'bf2a4e35-6267-4bd1-b23b-a46615f2bd61', '760a5543-dbe7-4ccf-8258-8e4b07f97629', '8b7c2b69-8290-4ed1-9ecb-ad87beab30ea', 'f44e995c-7fef-4567-a023-4ec6712c625b', '43caf158-90e4-4be0-bc88-42ea0044ac39', '97da2e7f-0ddc-423e-8d58-b177e5f94411', 'da6c0254-bf36-4b4a-bd7a-68bfb2c861d7', '056300e3-6f84-42e9-8a47-6e3177145cff', 'c3ab7f1f-fb1e-4918-8c67-4bbeaa5aeb15', '54820155-396a-46b8-829b-2a3f0be5fcc7', 'a60e483b-94d4-492a-9df2-5b438f08325d', '9ef6fe82-e54e-49c1-91c5-bc04924addce', 'e7c1adff-b015-4752-8e13-537d8ac60de4', '29cab190-ba1b-4a32-850b-17f3fc9c05e5', '23d81159-f897-49ba-b65d-970686182ceb', '709b0bbf-f5a2-4041-969c-9619953ceb86', '99d218bf-3a21-458a-9afa-0619f84edd33', '07385bd1-c33c-4905-92ea-b0d4ad913db2', '9d557d8d-497f-46fa-99f8-e17dbfd81559', '5632eadf-899c-4fed-9d92-1f22cdc1c0b3', 'bc8e4b6c-ee6e-4e2b-9320-17b5168be0db', 'e5e85252-e0ea-4184-8f61-348ae01e30ac', '89db955e-b169-4116-9c09-88783985e549', 'a4223568-9907-4faf-aa34-61b083af5c21', 'f424566b-8ce3-4f93-9ff5-fc4208b812c9', '669de190-78f8-4085-950a-32ac63c360b4', '7ddd1a48-d2cc-448d-9a56-b8722c3abccf', '09b81679-7c35-4f37-8bc2-cf1fc84b123b', '5930a695-0c6b-4b8c-b0e2-62b9c81bf730', '61bd811f-a074-4470-9a9c-c2ab8a8fb0c0', 'c6590c7c-dadc-4fbb-b98c-54dbba4110dc', 'fc8fd3d3-787a-496e-a1bb-20d22b933f10', '244082a8-c990-41c3-af76-e5416ff834f3', '46cab78b-5d98-458b-905a-21c096502127', 'f6e3c845-31bc-4f72-aac7-e3a3352c03b3', '4068037b-f043-4773-bf60-46d62637fb7a', '8e3c5c77-1b24-4ccb-a8bc-d935860cb11e', '47ab75f3-53fb-429f-8e98-ad4e7859c0d2', 'd128d2f4-10c6-40c4-8608-91a8335ac680', '58128620-54fc-4619-b9bb-c8adf2b1cb19', '77bd4c24-dd5d-40fa-80ab-bf5e36292908', 'b4be8ed4-a3d2-4bc4-8f9c-989e24440c2e', '0da0b07f-0b6d-4095-b2c9-87ca5f96aa75', '25f598b6-559e-401c-9d2b-5270f0448b22', '4715fe44-4477-43db-bb1f-1e2e70121ca1', '98e7b819-0d71-48f7-8ef6-b341ba002c31', '755efa81-1416-425a-a732-e3a025fffae6', '5f87e8fa-706c-42c6-8efa-3491f277f6ed', '0b2ddd5d-a745-46cf-8bb1-dde26308c9ca', '3be16cdc-24d2-4e08-9097-62acf87b97eb', '82cca2ff-b085-4e81-8bd7-101a95b5cab4', '4ff04749-8c50-4d86-8f9e-69ca7f9418dc', '0be41ab0-e9b1-415f-9a2b-1c0fe9691413', 'fdcf018c-67bf-44d5-80e0-9442f459b0f4', 'ca97ce6b-2269-42a8-b9ee-bdc7cfc61eb8', '6e4a8bdb-38eb-4cf1-bbba-6428f47024f1', '5273b936-baab-4abc-a2e1-9bc6684e0008', 'd1ee3a81-3b33-420b-9eb9-6fc1d7abb33f', '682f64ac-0898-4cc1-8d0b-084424f6ca8a', 'f3d72ffe-7327-407a-9f3c-a9a825ade6a5', 'd6b26baa-81ce-4376-a055-9a866fba7d97', 'bc827b9e-46ea-4cb0-b246-05ddc9597bcc', 'b4c52ba5-d9d0-43c9-8bff-e293eb56e6ae', 'a6397bdd-d895-472a-9932-435b72df2c8d', 'aed95e1a-fd34-4333-843d-784183837adb', '40fcea12-6d61-4382-bbe1-5f4a31cbe667', 'db3c1861-bd47-4f0c-85d0-203411fbd4f0', '5846fc5c-5aa8-42e4-8b90-30842c2fc244', 'ddbd6373-75b0-4b22-98e1-2772bd46e2ff', '437e6b2e-d6ad-465f-b9e1-c4fe6d9bf808', '6565bf45-04f3-4a93-988a-2ede656c895a', '44430421-452a-4bde-a84c-d1d1cbddc7ef', '474086b2-c52c-41a2-8139-5c24a61887a3', '51d1b870-73c3-4f28-ad01-02a671b33b8b', '86658734-d74c-4882-8464-5e85c2302e80', '632eafc1-d8ee-4f6c-b71e-248cb5833344', '3d316991-754b-4b44-bec6-5a3524868d6f', 'a7588d87-d3ee-4096-8e13-a7468cf56947', 'd8aa076a-c380-4187-9c13-1c4517dab78a', '711edd24-42f9-448b-a39d-5f2e451e8e00', 'ee4d8716-9771-49dc-8bbb-c7da114e5ac7', 'e17362f0-73bc-4511-83f5-8e9138276c3d', '8c27a605-ff9b-45ed-81b3-292517b7d4ee', '77681a91-5109-4a61-8267-7affd47a8495', '6ecd2430-f4e3-4f69-b579-0afd65dc52ec', 'c13f3e5b-9888-4d98-bcbb-6fd68cc8a6e6', '2dab6e99-0100-4f68-8acb-ed40cff15bab', '25d4386e-b708-4cbf-869d-58a914ea739a', '3377cfc3-f359-431c-856c-95b09b7b2e4d', '024078ef-305b-4d00-84da-c670c2e14d6f', '4e1f7631-559c-4427-a658-9f9cfa593c21', 'b9c3bd65-7204-4945-b90a-1ed77b2aa277', '4d7bd9a3-2e47-447f-a1a5-d37734084a84', '589e1c45-1c82-4263-973b-fc412eef8992', '4de1b63c-741e-4304-8621-ada303ee7b4d', 'c43f2c87-755a-4364-9f44-ab994f925366', '1d91de0d-8613-437f-9c46-80956566f3fe', '75f81530-d2aa-43b6-8cee-eb1bda1e3673', 'ad2fe780-cc07-4788-be2a-5fa96cf5ff4e', '511bf83b-65a9-48b9-94f7-d6079a73e9a8', 'a4118e83-bad8-417b-90d9-f188bae817fe', '1d4e3f5b-e31b-4747-88cf-d949f3125e86', '0713a7d2-bfa4-443b-964b-8e7e5f1dadaa', '33fb2f3f-2278-464c-a047-f869bf3ae9e8', 'ebce35c0-9c24-4c66-86fe-c9afb6eb5f79', 'c4081c6c-2f2f-420b-822d-27bc00cec2a6', 'c19d4cf4-e994-417c-b8b5-f1931484d6b7', '40b2acb1-0fca-46b6-87ba-bfb5c06b1dca', '964e231e-8b4f-447c-aae5-a6d8f2fe4fc9', 'f6fa5f5d-1c1d-4c7b-85ec-571533841063', 'aef7e237-8aa7-495f-917a-4d4186a687bf', '9e08bc6d-a9ef-4ed4-8b43-8b150ce9b1fb', '9038b2f1-be02-49cb-a70d-07cfce258f1c', '06a99c09-17d0-4021-b7dc-73e50e44ea41', 'c3381090-ac8b-4c1b-a7ff-20d655289c32', '0c217330-6455-4dac-bd03-72c581d7b557', '0e706457-f726-4dc1-a01c-5eb5497d26f6', '2b5b6364-ea25-49de-8d09-1e9562199ecc', 'ae248de0-2421-44de-9063-56f5bd89356e', '406a8f56-7a19-4530-bb5d-311a86a10b3c', 'bb1d5498-d172-440e-91a7-71df155d6297', '3849f895-03ac-4b38-99a3-5804eb0f2356', 'c95ec4c8-fc2e-434a-993b-b539b55760b8', '893b0768-74e3-4466-a0b7-07d830d6d22e', '6169455c-981d-461a-af7e-75bb42685a36', '6651e5ae-ab34-4269-a1f2-e20c4dde9cda', 'd4fd81e5-bc1d-4574-b0a9-1c003090eabb', 'd7a6e3d1-87ad-4fed-937b-ca96126758cc', '225f942d-9a5d-4c72-a15a-89a051839796', '6f0dd3f3-9ba2-4d6d-bf1a-56dc95265e2e', 'c4e6e654-4a27-4bf3-9856-9a9afa077df4', 'de1d9848-65b6-4ca3-b511-340ea5d35fe0', '9de856aa-c996-46b1-9c78-0e42f3381959', 'dd6079da-89b0-4bdc-972a-301f47da100f', '9c699d9f-d3b2-432a-a723-e8a8e0d5ffd6', '9e0bcd9d-a397-4917-a50c-e910ca2e52ad', '4a16764c-06cc-49e1-bf51-eec51c6c931f', 'eff8ea57-a32d-4b50-9a07-11bc3dfcde76', '34a6e5a3-dff1-4084-927e-328351c5ba1b', '4aadc6d3-ca97-4dce-a52e-ab108c4120b9', '3b0e3bcb-e71f-4a43-b2ea-3152f5d1de10', '780f51ec-c440-4b54-8ba5-526885ff8748', 'bd1f4036-682e-45ab-9668-2a6c7300e7b3', '2c17a552-efe8-4116-aeb9-905f396c8f3d', '8f6eee40-2b4d-46f6-a657-79f00850909a', 'a531d5a9-882c-4c34-b4fa-a7245c7305bd', 'c39dfbc8-1222-480b-848f-8bbd2ba6cf56', '6cd8eaaa-4dd4-4d34-ae5c-84a91e2c1660', '11a67186-3523-47d9-bee5-9e7696724a68', '1d4b476c-e327-45e3-b386-5a82d379eafa', 'e4cfd928-f3fc-4b79-9467-fbe23d8f8325', 'f330cd9f-e4c9-4907-a942-cca4a6d98d0e', '4b907d38-3544-4c2e-960d-e4ad328a62e2', 'cbe15cf4-cdca-4ebc-8ee6-cc07f76ab3cb', '5ca8207f-3141-402e-8f3f-c869c5798788', '8ac8632c-0f76-42d8-b125-3d2803c31a13', 'f782a4a4-c28e-4bf0-b695-2e7755119582', '5dd277b9-6028-4432-be89-5aa08d7934b7', '668a8c41-daf7-439f-9202-58806d5fdd96', '98832521-c7a8-479c-b888-ac58eef8b5a5', '2c53dfd4-51ad-4daa-90a7-ecac7d05fd2a', 'c500558c-834f-424d-8b34-7acfb1a6f8bc', 'ea0509a5-c016-46e2-87f6-250dde3bb95f', '56eaa678-e1a7-4558-9ef2-b97bdce6997f', 'de99dcb3-393f-4ad6-8bf5-73bbee6ef31d', 'fe6030f0-e9d8-48aa-88ce-aa5dc6ec6106', '1817068e-b611-4985-bdde-94a555f24aba', '66c5fe32-a699-4b9b-b6b2-b3a2e76194ce', 'b05ebae7-dde2-4535-8bf9-880e6b1d678b', 'bcab4990-04c4-4488-90b0-aa417f88c395', 'e1a453d1-74e5-4980-895f-a9d3bd4c81c7', 'fd3c0597-fe4a-4022-a7ef-97a713ed06b4', '08e3bec2-9358-4558-9fdf-735344228123', '694c42e9-06d1-4f64-acd2-30c6eca47b16', '1d90ccf3-0924-435e-b719-dc8d5f8f389a', '21b6f108-0b0b-4cfa-b221-e2f4408c38d2', '41d1b847-6463-4a97-a4ce-378a069b0bdc', '7dc09a2c-cff6-4357-9768-700997f9a100', 'bab5e961-6682-4d60-8a31-df4df00f1795', 'b2907081-e56b-46bf-a234-5922adfd9a7a', 'af4f0e6e-92be-49c3-8345-a211d211f5b6', '660ad4a1-1c10-4e08-932c-e58f9e98f94b', '09aef9ff-30c2-4f4b-9ccc-1f72268fdb9f', '0fe5d2f6-e9ba-460a-b50f-80786d445b6d', '133522a5-2ded-49ea-9688-4f685997ec88', '01f0c0bd-a650-4bb0-a0bc-2a1b21b3a0fd', '92d115a3-d0b8-44f5-9f11-ed28df584521', 'b126f1ab-35c2-46a0-b37c-776e8ca0a245', 'd3965a51-2f3d-4a30-a563-581a8e44d845', 'fd964940-fbc6-4fda-b8b6-eea0a186d8ff', '0d302ed5-44dd-42ca-9482-413d9af5f886', '57e5ab20-47e1-4d8f-9c3b-a0fa895c20a6', 'f071998e-d60c-494a-b504-28b1182847c8', 'c1f5f6b0-f2ba-4ac1-8b8e-c68e60a65f52', '068a6bc6-d206-4dbf-a39a-fcaae00feb49', 'a7a2fc45-0f2a-478b-918e-6c1ec0af4399', '52c64c67-8c04-41cd-ae0b-71f1c206c468', '091ebc78-2851-4ccd-a9e2-db88c5004f79', '774a32b2-f664-4ca2-a350-0333af72f752', 'a39b183b-4f3d-4b9d-a6dc-675c5f7e109b', 'fb22ca6e-a2e9-4125-916c-61e71dc3a73a', '828e76b5-ca68-4ac0-9037-04f54d1855bf', '0799666f-d2ad-45aa-8014-4e575ca0a2ef', '4267621e-14f7-4ebb-9ea3-cb8ce5ffc88a', '6a3af32a-7b79-4368-87c9-34c38829639c', 'f899b1d5-333d-4296-81c0-59e4a2881944', '8f01b09b-63b0-4819-b717-3bb817c2d84f', '371487b7-9f28-4459-a428-c241410d82ed', '1ac42133-85b8-4785-8e38-573906cae81a', '62f20ca4-7067-4762-bd79-8c3f7f0ccbfe', '8f478215-9de6-428a-bce0-29e2e0ab9acd', 'b2fe17a6-22b5-4a21-8cf5-18429458c01f', '70b232e4-0101-42cc-b156-77e80169104d', 'bb5c43fa-72b4-443b-bd1d-183a71eec528', 'a62b7ef3-1253-4d17-9a93-52c2885406a1', 'd1f73ce9-73ce-4866-9c17-48b8cd4f8236', '3d76adb4-50dc-492e-8e33-b91e991ea0fd', 'b7be06b8-aea1-4f92-b59c-055fd71d0922', '25c2efcd-7584-46d1-bc8d-6fd2d72fd1a8', 'b6f8f21e-f30d-49e2-9ac6-eff7dade18fd', '10c73f01-bcb7-4167-bed9-a6c7005a99c7', 'b860fb13-1ec9-4dea-89a1-bf0db26689b1', 'a0328de9-8b48-4912-9e2d-1c53bc6e0ac0', 'e1f7a71f-e6e0-4d45-820d-65fb44614b5c', 'cbe5ba2c-83a0-4586-9873-3f571f4244f6', '06492adb-c66d-466b-8037-c83c99a897bc', 'adbdbd9f-ffd2-4817-ad8b-a1ff5619a12c', '845b80ae-e541-4dcf-b326-90455e6f6bfc', '055597aa-b377-43a9-9eb5-6ceda3d3efe4', 'e448612c-2c3f-4c58-bb2f-cc8a5a1a6207', '0b169bba-2c05-42e8-8409-7b0d29e51182', '64e72c44-448b-4160-95b7-d49cea785bff', 'f48548f8-8f5c-40f3-8a93-bf9fed714396', '30ce3d12-f501-4c3a-a31d-ff1c7fba8ffc', '911ba9b0-f0e4-4052-b9fe-5dc4e10d7b54', '3bab8667-95c9-4f94-a5be-0364d23c0df8', '1878e773-e2db-4865-92ae-f3a209fc9df7', '7699de6e-1989-47e7-b3a1-764bb9267696', '9d07c385-3566-408e-8c7b-60710247ead8', 'a15cd982-f235-4523-b6cb-5aa4c8c83de3', '2302444f-cd3a-432a-935f-2bd0cc4ebc1f', 'd4b6b2f9-cb2e-44f3-b02b-6d2529808ab3', '03c8e5c0-bdb5-4d85-b924-cabc3a491020', 'be8ec746-44c8-47a3-a51b-9264e01258c8', '8c0c0ed3-d1ae-40bc-b0a5-9d9871befff9', '4c4f1349-f343-41df-9a12-faf76f620bf4', '3d2050b9-6a1f-43de-b324-73fa20ae4139', 'c3174a6e-e1de-4ffa-b64e-cbdb059d6cf8', '22dcfbfb-5fdd-4b2a-b558-a3ee4f0b54a8', 'f6c279fa-c6b2-4bd0-8e12-57e56c9db826', 'b0628c47-50ab-483a-b0d0-4328e1405f87', '1a511545-86e5-4b7f-b89b-72283b71b6c4', 'df2886c0-e5ba-47ab-8b9c-ec29e83c3618', 'bd6c4db5-7f69-4f35-8bda-57b420b36a21', '343b2ebf-d171-4597-9bf4-025b336fec79', '08e743a5-2404-42ae-afc4-16e755ae8c46', '11d91d66-06b2-41fb-bd18-49b6e33a1a05', '0e0fe290-bdde-4ec5-b4dc-3936ce3403eb', '1b225919-e9bd-4b65-bbc8-cc601e0289d3', 'ec3e8935-bc45-401f-a6ba-7c9e62208b79', '5465ad9d-d884-4ccd-87fa-0ba997f080fe', 'daac71e5-369a-4876-905a-6ad72dcc6f4d', '7a2b962b-6428-4ca8-b44d-1d238e58832a', '24fce501-0bcb-48ad-af49-c09e6a9c93ec', '2b7c7694-f882-40b4-ad3a-4b7e573e2f29', '3bd63e02-b884-468b-a61b-52e77f34c086', '154f4b45-bb0b-48e5-8a5c-6c3a392f1fe3', '818d444e-f98b-424e-a9fe-6df6afad0ab4', 'f33aae3a-79b8-4236-928a-812fbc8f87b0', 'fc720502-ce8c-48d2-90a8-f8d74b7fcbf2', '74e0d056-9300-4c7a-99f1-f725c803133a', 'c73be0f9-9fd3-45cb-80ca-33145fd72ce9', 'd366fabd-b32a-4033-9efd-2af6d232b1a7', 'b4ce8ede-8300-4fe6-a070-4123418245ef', 'fc6faf01-44aa-4f61-8901-0a48899a2992', '8b7c8773-3907-4712-a85d-f65a56f61531', 'aa9678ab-441f-4438-80c8-69e292247583', '7a809a9f-1d7a-4852-83aa-b276e9022e5b', '349ad9cd-4300-4f06-af44-1cdc856deabe', 'e8e4ed0a-aa7a-4fd4-900d-5acbf9e00762', '34255dd5-fabd-4ea0-bd07-d5faff48ff3c', '941fb172-c7a4-4b54-80f5-d2fa65d5c231', '64c5fd0e-7f6b-450b-adea-d7be82f2ca51', 'bca1ab38-2482-40b3-84b8-5a90859d0d48', 'c9b4e680-fc9b-4e77-9cc1-d291a5c4bd28', '0cc18d0f-d179-4578-931f-f80667beb2b0', 'f4ae4012-155e-4b8f-bf38-b1d65ccc3f5e', 'a0bd584b-c005-4d34-a216-398b3a7e9ae4', '62feeaa9-a63c-47f3-8595-ec0d9f03cc29', 'd1b514e1-6a37-4539-a463-02456c14cf3a', 'd9a4818d-34b2-4c04-8af3-46b4474e69b6', '046a5ad4-e637-4309-9643-46f39c6ded62', 'eec73ca7-6011-43e0-9b62-8da323af7023', '6351ce2e-aa48-476b-a665-bd9da69cf332', 'd9227c95-2e8e-42bb-a8b0-c9b6912ffc7e', '26765876-a8e1-4034-a411-199b7941bc8b', '0f839886-64d2-4a98-a7fd-bb6b951e66b7', '957d5caf-1534-4d14-bedd-0606d33ee28d', 'f787cfba-b2f6-4f7b-a8a7-60869ce86525', '16bebf10-61c8-411a-b855-c9081424507c', '22d755c6-5825-4b89-a50c-6e0b5d34d952', 'd84246ca-6169-425d-8040-25756246cbfb', 'e7644975-9d2e-4aaf-b3e5-22de6f5daed0', '9beac11d-ecf0-4af5-aab5-0a0a386ee4a7', '4a3eeb57-1f3f-414c-8746-55e80dc45614', '259be801-e926-4854-943e-2f631a489435', '66747d9b-8626-40ea-bf1b-eff9ad13b263', '5063069e-1019-4eab-b38f-d262cfb4bc9e', '21f61ad5-6a73-4373-8006-9c5d3f7b7dba', '7b2f3d3a-d490-42d0-8d5b-710665f5a33a', '09bdead7-e702-4b3b-aa38-e42d4c6d913f', 'f7249870-fe72-4f34-a990-bf4f380f386e', '51dabab4-5f53-435f-989b-f9c1a4b7003b', 'f9b47768-df04-4a66-ba6b-659593d18af9', '32d8eb51-2458-48ab-8043-d46bac425082', 'eef43a8b-65a6-4465-9f91-d4888b1d8076', '511b3f3d-9e8f-4b1d-9789-4e4b30876b62', 'cfbe35ab-b1ac-476f-b48f-27acc2475406', 'd9ef3e9f-ab4c-47da-ba2c-1a7bb1de8b27', 'cf69e2da-535b-41c3-a618-d579380401a4', '5634432e-acef-4950-89c0-8f023722311e', '1de15891-41a4-4ed7-a2e7-b5aebbb642f1', 'c7b3652f-95a9-4bde-b6af-9c23a3b7581a', '869547f2-0aab-4212-a1cc-1d75af27d534', '1c1e3b36-05d7-4e70-8322-d75e1322b829', '82cf0e96-d8df-420b-94bf-66e407db5178', '1bb5537b-1046-4377-902e-542b5ab92d63', '4673c2db-076d-4a59-96c5-dfe17ebcb55e', '6871b2e9-5354-4711-b389-852beb442f79', '791c6499-cddd-48fe-8c71-48f7816204fe', '57b3225d-ba46-4b63-a0c3-00d90d670020', '1dbc3a83-8558-4973-b117-c47f9cc66f8b', '14dd4d02-72c5-42bc-af17-f502cce4537d', '074c6da5-2dd1-4f86-93af-ee325f1e5ff3', '33e73a6c-e331-4cea-b760-057c013f5917', 'bebf12cc-da88-4790-9cb2-2e3ca3abc844', '623b09e6-4be6-4af6-a845-00430e4931c0', '95e641b3-6dc5-44a7-b9df-14bebba8274a', 'cfe9f075-ca84-4529-9c9d-7f06f865da3c', '76969a44-5279-4a92-9025-33949fe22542', '832212e3-0257-4230-a0c1-822124e84a1e', '3ff09506-52de-4b2a-9ab5-e147f5942c3e', '806d77a8-6774-477f-b1a0-d148c2855e50', 'de213e07-fb3e-45bf-83e4-cd5f9900615f', '751ba72f-67b0-4be6-a7af-30a95775f5b5', '300b5992-90e1-473e-86b2-dd66234ef56f', 'b6935399-7c0e-4bea-8e43-831ba4610de9', '9260f637-3dfa-48bc-96ae-e1b696f66db7', 'a31096bc-6e4e-4e0e-b9ef-16967368bfba', '5ddb7d60-95f0-4ad8-8e63-755d0005e1f9', '1bd60816-75f6-49cd-9f19-50c0ef62067b', '6648e190-820e-4978-a162-5c5229106299', 'df33f00a-aeac-46a4-ab93-4e5a80cc7ef6', '16b3092e-0fed-4092-a17a-8a39d54dc5d7', 'd21069e6-0195-49f3-bb94-ab8b45354abb', '754167cd-23c7-4db7-a14e-28ed1f7a315d', 'c203f7e2-f1c8-4d31-9316-461fbcea3923', 'bc3d0a5a-a2e8-4f5b-8a40-2033f44f21fd', '4b89b67a-92cd-4ce1-a1f1-d472326a9021', '29f7b88d-d324-444e-b917-56847d3fe037', '42911c36-9053-4f23-bb99-d8e805f03b60', '22a87359-25bf-4c11-a2e7-85a5cda578f3', '366cf2d7-f832-434e-8709-9eda03481937', '226158b2-d0fc-440a-9a71-256abf0108e8', '6d39224c-f975-467c-a256-b929da23507d', '9633386a-c9d2-42d1-90bb-47c28570b818', 'a3c9fd2c-863d-4d1d-b440-38bdf92ab660', 'a7dc09f8-380a-4b10-ac6e-54b5cde3dbf3', '8eade95c-c4f7-41f3-9e03-e33b34d59ef2', '773c25a1-4f6d-4ea5-aec5-24c058cd32dd', '3539428c-f017-4496-9923-4c310d1918c5', 'eac54804-ea4e-4d61-8126-396d5490eaae', '8c72ed96-5806-4cc3-b2c4-7136a78d1264', '19f8b5d6-a5de-46b4-9f80-d41e2b35d989', '699e5c9f-a9c0-49f7-a899-07f1178f3bcd', 'b5a09c47-67de-432b-8c89-cab64a176776', '9d9f7243-ab88-4476-8bcb-3d5077449235', '8c64b41b-0681-41fd-b1d1-41353b630fa5', 'e1fad22a-7364-458f-875c-466c6c41c4af', '63484800-6169-490a-9f6c-228b1e3abafa', 'ecd23de4-d530-43fb-b3d2-731da980cb03', 'f5182af3-eec1-44bd-907c-2ffb8bc6d8c8', '969027a2-d098-4a00-8c0f-a791b2ef55d2', 'd7c5c8fd-dafe-4110-9ea7-fcb755fe3060', '22e1b4eb-156a-4969-af47-81d5da192985', 'bc4c87dc-966c-4b9a-895a-26803f683be7', '22415831-72df-4ae8-884c-44f2ab1d504a', '1208dbd1-1850-4cc5-be15-a5736fa460e3', '1c059671-252f-415c-a322-cdee131fcef5', '26e14bdc-96c0-41c5-b17e-7600b4d08b48', '2a555c47-e3e6-44ae-8300-2b55b5fc1fff', 'e859c703-2e1b-44e0-bb47-54a613b34d90', '92d2e62e-1b2f-428a-8336-2e91331f7aba', '8c196975-de0d-4d35-8ad3-d951f4760e39', 'afa7f975-f862-4dd0-8de2-0a4c5457b868', '22a08887-44c4-4270-b955-b2b711cc18fe', 'baf9e93b-1056-4806-afb6-cd5838ab820b', '1eb3eb3b-3147-4de3-a22e-5e9d3f0a5815', '29c1a90a-5176-4f23-b2ff-413a466c8091', 'b9be991d-7ffc-46f2-8cd7-9d51d12c0f28', 'ba7ac133-9d6d-47e6-a1ae-e83701833f7c', '738290dd-c174-437c-9967-b5268d0e0c28', '08b5a687-1d91-497a-9966-bedf6aad86e4', '6e844cc4-ec02-4d8c-9a2d-56249375fa22', 'a0f568a1-0d1c-4f2e-b7f2-4e7bdfda9ec7', 'bf26dc76-a185-433a-8acb-b835aab3b3df', 'a79306bb-7a8a-4662-ab67-57eeb0143172', '9f966e89-27f8-4c5e-be79-b20b5a207ceb', '040411f3-019f-44e4-a9e2-31f655a6ceb8', '1894dac8-1d10-4185-8f48-4773b54087a2', '2185aa71-41bb-4422-90cc-f337eec1d399', '0021df66-acab-4ad7-8e3c-c17094495bb9', '1ab43fb1-8f59-40b5-ba9d-da40decde8be', '425cab59-a5c8-4c1b-936e-e968a17b9503', '6a999bc7-f223-473e-b5a0-97c1716493a1', '61ef7d20-3821-4b67-ac4a-5aa5667b197a', 'd021f539-7126-4f5a-84de-dd468dd3e303', 'c012e9c0-9b90-45e2-89a9-edc5b528a99d', '534bf021-3f9f-4d6c-84a6-4e1c65c9a361', '1c8e1f86-8542-4620-b848-5f3ac84706cc', '7b211a99-0e52-4ebe-89a2-c4eb0ddd2f74', '345c0a9b-7cfe-4f0c-95df-f6c3c9144827', '15bc4bcd-7fad-4694-8c15-19979d6882da', 'b7aed390-6c6f-4148-88a9-6b2befe5bf86', '044f17e4-0b60-4834-9885-c95b2cec2c02', 'bb62f823-627b-4ec7-9082-a311def0e75d', '1d3115e0-bcc1-4e01-8424-19805b6d4ad1', '766a96ec-7ccd-44cc-bca4-3f621d195f7e', '479d190f-3688-4f9d-97fe-083763cb00fb', '6de24ec0-15e6-4f57-a41c-0fa89a2fff1f', '7a6fc259-8ec0-4ed2-9225-3be76d5e0d48', 'b6d6f4ad-fc69-4fcd-8356-f134f7f182c7', 'f9f29b1b-9166-4fa4-9b31-d78bdfdb7c6d', '32c9ab69-d5cc-484a-a840-c0b570c7e46d', 'd99e85e0-ae92-4f5b-adcd-5454ce17d4d3', 'ade16ea7-a2af-4f0c-82cc-401994979505', '9dd2ebbc-e3e9-4262-a704-3b0e3bbe1440', 'feac5959-b421-4051-808b-db0cc83e534b', 'c5e750eb-2343-4082-a005-3fb374260479', 'f157a73d-becb-4364-960c-147b2fdb33a8', '62ee57d0-45ac-4e62-b8f8-318b7400d8ad', 'f3829d83-775a-4953-95c9-a1abe04efa62', '42ca5cf0-04ca-49bb-b9f9-49906acce828', 'ab8d5148-70db-4f99-bfd4-d88dd85c4124', 'e8fe8cde-d8ff-4d86-91a7-21f609cca2ed', '7348dc33-3c2e-402d-8b9b-238c5f391c69', '7134fe00-a542-4e0f-a4ce-2eb3dd1c8fa7', '45c59937-b25a-4650-ba91-cc54cde3ec0c', '158bf35d-d868-45ed-9889-b89a974cdb5e', '80c6ad7c-f7a9-4960-b466-efd41a2bf358', 'e6712b69-5b9b-4079-9d64-aec41ac5433e', '6491d70e-fefd-431a-8331-e95077f4b38d', '785ee1d1-0d89-4383-8374-9091b9ab35fb', '8f14f2dc-9b07-4178-92cb-0793782cb1bc', 'b23ef102-2d4b-4cf8-9e47-f7571d19a21c', '28d64048-4365-44c1-b3cb-7e90bd598660', 'ac4a64e9-a3ad-4163-ad9b-e750413f0177', '8140bee5-1b11-4541-9758-086e766a8dc1', 'b0736778-3f3c-4945-9e00-67aac040ac36', 'a8a55125-ff40-4632-ace7-a661dc107cb5', '9ecc009a-d42a-4496-808c-d730bd43c7ff', 'f3437b1e-bada-4a1e-a8ee-8d34a44d1c5d', '1217f57f-b6a1-46c6-a14d-2ff76580534d', 'ebe50b5e-51e8-40b7-a01f-d31b792d7225', '82d27f5d-e45f-43c6-b2f6-07482f6f5d3d', 'd8c5a84d-92a7-4b65-9664-9661e6e43a29', '3cc6001e-914b-4d8a-9c70-0520ef82202f', '06b39365-66f9-4a6f-8e99-4fada5a883c7', '8ad15ce4-9445-4c75-b148-b04a3351812a', '1e6cf4b0-84b9-4082-8c0c-fed735b110de', '04fe1d84-2905-4e86-9bcb-0c57ff034bb1', '24e1d0bb-1d14-45fd-a6df-358f6a44aaa7', 'ad090f3e-a730-4d2f-a044-956f9b71955d', '83f46231-5230-43d8-901b-268864b0dc59', '848afe06-7c3c-4512-af69-44166bd1ccab', 'ae983c9f-a67e-4406-bdb5-b8257bf71b87', '32ebd0bf-62b7-4458-9f59-b6af5790e7b3', '2af54caa-9f24-4d0e-8613-4d88c6cdea07', '71e0f587-3d85-4cbe-80b5-38902e00eaaf', 'e8cc68ac-879b-4581-99f1-984465993085', '0e3fa677-f5ec-458a-b12a-05b34b882a1e', '9c7dee7d-1a68-4a04-b507-23f9c1a99b58', 'f9e2b1be-9c22-4dfe-9482-f54c9eb7ad48', 'a4edc08f-6f54-4539-a089-dd88db8fd031', '0fccd020-2dde-465b-b7a3-c948de7850a4', '9e5bc165-6aa1-4247-807a-30e2fc3e891f', '56da2810-ce22-4ed6-aa42-7df899034c66', '782039ef-5bdb-430a-bfd8-b38d1cdf01b3', '9884da66-d1ab-4933-82fe-9e7279c525c5', 'b22edc2b-4c3c-4d82-8cfb-8cc309b0f7ad', '7ec2760b-3327-4482-9156-b12b29ff91bc', 'd7f90fb7-31e2-4de1-ab1f-6c986355d13a', 'c4cb8881-af8e-440d-94e5-83ba57954678', 'a4793b18-ce6f-4462-889d-f7d622a1574a', 'f3e68c1a-a117-47d7-b2ae-64957c435d96', '23b51fa1-0543-4f8c-b4bf-5a8844d7d52e', '4931d559-3ecd-4af8-9a29-0dd94c11ab66', '5f068ada-f14b-4026-985a-feefa96081e7', 'de8835a7-1da4-471a-9aa3-57bbd0387d4d', '277a0adf-da70-4aeb-9b91-9ddbdcf7f0e9', 'd2ba33a2-9c74-403c-a90a-eff162ab14d1', '8529148f-6e4f-48b7-b8fb-adac1757bd24', 'c544c429-808b-46e0-9bcb-9ad4dc9355b7', 'c2253004-e010-4031-b2a4-55b04f6554e3', '0f851dd3-472d-44d7-9109-3f0582ce02df', '16d8f8f4-2f83-41fb-ae30-fbe9a712cd4a', '4e8b779b-4207-4222-9b4b-5adccc0f189e', 'e3e48a5b-0271-42c7-9387-a30a3c18e55b', '598c903f-1a42-4422-ac28-83d33ba9a812', 'b64599d5-0c2d-4b49-bc31-5e2672cb659b', 'd85e3373-f09c-4dcb-ac08-a2301ddc954b', 'c0d7e758-954b-4fde-a3b6-f432d4e8c9a0', '7da7ed8d-1e71-49d5-95a3-851d40975e3b', '0368a87d-65f0-461a-abac-0e3d8b813774', 'b58f3050-2d4f-4248-8bdb-5b4c7c79cd86', '2923cb92-42b1-4175-863f-834319129ac8', '606acc9f-9b2c-4824-9e21-4839b0a63395', '39050d63-946b-42a1-9915-fb4ee1e9be3e', 'c4398c7d-5310-44b4-86c2-63b55969cf28', '2953ec64-e608-4264-b092-25b030411ef8', 'c4ac93d1-900b-401d-842c-db1fdead3988', 'db0f136d-4963-4e58-ba36-415c01758de2', 'e9875039-64e4-45fb-94ab-36decec366b7', 'cdfa23b6-f530-44d9-b50b-db097c46efa4', '24468dad-7c12-4de1-9113-24f6a9db5a43', '6a2719ed-fe09-4e14-b166-74e8cca1ba2b', '54898916-ddcf-4a53-b371-5673177e2c85', '6e2403ab-fadd-4675-b226-bdb1a4ec6307', 'dd868607-c0a3-4bf8-9be7-f8d681b879bf', '44d68071-e176-4f1c-a87c-72cca0ba98eb', 'c1dbc3ef-9a14-4075-95e1-6f5584977d8a', '42000c43-7233-4c30-a0f9-df993430723d', 'bc791271-632c-4437-b9f2-5123d95364a4', 'c8a8418b-1180-4b6f-bd3b-c2287975e30e', '63234272-c901-4268-ab77-0dd9f743da8e', 'b21f0da9-aded-4673-9856-6c67425ac30d', 'cc479780-3385-48d0-85a5-8bef9010d0c1', 'd632930d-9519-4d0f-b7d9-4bb728c808b9', 'e2f97971-2166-402e-8053-0cdb6e04b3d8', 'a8daf7c2-9412-46c0-92e0-a5e8de45a093', '7e252dce-5fb8-4bc2-a2b7-f2ff52987cbb', '656a7984-2471-4fa3-984f-de1643373174', '00bcc919-112f-4476-8942-537d29fb0350', '0e6a0d11-5476-452d-bd9f-8550d015ad3d', '08999296-38ba-4d20-8ca1-4e190ab14c42', '4df3c67e-5949-4f31-b467-a6318ec636d6', '51ee9667-9c15-493d-ac15-2fc246fd7e7b', '6cbab06e-d818-433f-b981-9659c75cde35', '9d6386b3-9055-4aac-9af0-946d962d6919', '3a2aac09-92b6-4ea1-95f6-aef1f3863a0c', 'a5f032ac-5b2c-4ca0-b150-4b7aed09c79e', '0c7f93e4-2ae0-4deb-b63e-90f6f1ff51d0', '577117f0-c971-415f-8775-24a8a69cc30a', '0c6051fa-2101-4bf4-b028-17d1c09e6650', 'd3e9aeac-0de5-4229-a75a-51a4eca00c3a', '943c8d2f-c5d0-45e5-bc2b-50fb66a6ec9c', 'ddbfa357-3bb8-416a-ab4a-644293f2239f', '89ca0097-1eb7-4dc0-9197-8746b5d0d944', 'e3e226df-9476-430f-a992-d00dcfb72187', '82f4d5dc-bca5-4f16-833d-dc386ebd5293', '3a77b502-e8dc-4422-b3c0-4e3bc259e6a3', '97c4dc0b-c64f-4525-a694-d28724eb0168', '93a744a5-7b11-4128-b37b-50987d8c5d64', '2782e936-513c-4504-bc2a-290f953d05fa', '09f56726-5298-4970-a127-cc3d8363b6e8', '06539787-b545-477b-a694-363723a75c52', 'd4533a4e-335b-4ef4-9db7-c11ae741f61e', 'ed751a9d-f40c-45f6-8100-23868348e117', '2306035d-57a4-4fab-8dd4-0b293220fbe3', 'f928db1a-4e93-4e46-a853-c5d746c86987', 'ae02bf23-91d2-4ad9-8e37-efa8075913f3', 'cdeef5b1-277f-4c23-9584-a7788ce8d9f8', '625b79cd-3b70-4454-bd93-07d45198e04b', 'ddbb3c27-cced-461b-974f-417eb48d75ed', 'c7a7a88b-dd8c-4230-abd7-db5fc6a4bc7c', '0550d787-0b36-4b90-8768-33aa76eb8ae1', '99112303-9ba5-4ae6-85a5-e6a697b048a6', 'f768ada7-f683-4d73-b9fd-6285b9dac96f', 'efe3670b-b48f-49ce-9387-e8a55588693d', '9ef9adf3-0355-4abd-9f70-aa3885fe26fc', '37782f46-bd7b-489f-9d72-683d592051c1', 'd420d760-524a-4bbf-9b6a-8b84c418e3dc', '63de9e80-8167-4948-937b-c0bb2759c40a', 'acafe199-381e-4a72-91fb-9708553fabda', '2bc4f32f-0554-4d02-bbe5-bd455bdf6229', '16b428e2-0c18-4eb6-b659-33f98f0cf04e', '46c4d74e-a3dd-4c73-b7bf-f96e6c4d26bc', 'fa9a1a41-5403-44ec-a916-fbc13878868e', 'fc1e1469-d148-441b-8387-3dfc538a6488', '1d822ecd-2188-4771-a68b-169b752cc701', 'd497e25f-61cf-499a-906e-777967fa3cd3', 'a7de9c00-e4c0-409c-b5ae-28da18e71b7a', '9d56271f-ced7-4dd3-960f-b4fd61d6ff4c', '610b89b5-ffde-4094-903f-6035b448acb7', '486f79d7-081b-42d0-b670-fedc0ac3b351', '69f962b6-f5ee-4025-97de-bad1b5cadf44', '8d2abb57-eb87-43c6-9616-c51eef8f8929', '665a43b1-8366-4401-b9f1-79241da12f25', '686ccbf1-d0be-43e4-b512-251f115de67f', 'c18a26b1-61ac-40cf-a3c3-fbe8e5d88589', '91870fea-0370-4e61-9c1f-f6cc59709033', 'b9ba1bee-4cf1-4f69-8c3b-fc96cb59b1c0', '6a055c3a-60ca-434d-ba20-d92cdd5b5f93', '05df3e80-baf7-486c-88f2-e7061c1c49d9', '64f729d9-a909-4744-b493-ec44fd5cc890', 'cac6ba81-7d54-42c5-a687-60a0ca64b27b', 'f3d4db2b-ef3c-4b7c-9aff-7a46b988a080', 'bc3c52a2-bf5f-4a58-bb63-2e303bd475de', '1687f786-6d90-4bbe-a6f2-1ff132a07c15', 'f2d00f35-e4b7-4281-9539-98406f79e66f', '20c4f8d4-cd29-4783-829d-856d85e1cf09', '34f0756f-29e7-43d9-943e-402d23d352eb', 'f64fc5b2-0083-4e71-9042-1858f37b6ba0', '7f645154-8356-4761-9460-e212f32503e2', '76af4124-58e8-4431-8463-de6920f737aa', '7e579a72-4ea3-44ba-b2b9-498143de6262', 'ff7e92a4-b8f4-4bb0-871a-a54e91bcbf8c', '22292269-b632-48c3-8a44-311b47e6cc39', '2da69145-845e-4330-bfe5-9776df08bf85', '83984423-4626-4a76-b7e1-34bb3fa9b1dc', 'e4930003-e9f6-4cfd-b524-f2b410eba200', 'e35ddd2e-6630-4e0e-84f7-9d10bbd72873', '9456c3c2-c431-4e8c-89c8-61fc2227d896', 'c8cdbbe1-1e85-4b36-8900-6ab17227ea48', '1893c6be-e61a-4e4a-8f51-dcda60863bb5', '83f3a55b-78fb-4f9b-8592-075a42bb55e0', 'db0c7aaf-11ef-4844-b8bd-33fe0b22afda', '5c172bc6-d752-462b-a68b-36323f65127b', '2d55d908-5cc8-48e8-a586-4d7ac5b9a881', '1c4eb222-bef8-43e4-8d04-b1ac05666888', 'c115b510-c582-4c7b-8c93-62bbde71bcb9', 'a697a42a-4f8a-4f3e-8ac3-dbeb32da56e9', 'c4244e1e-8827-4f3d-ad78-97f942d70116', '30167b3c-4596-4755-a89e-a9c827e40264', 'c424ebb6-d5a8-4d68-8216-2b79176d9bba', '436ecc40-6221-4f3d-a8a9-5d5ac6f7c781', 'b13782df-5126-4f89-b677-2d5671e9e1dc', '6cf29248-3c50-414e-8887-3cf48e1c9339', 'b9c80043-e9b9-4db5-bdc1-b9b7c6ba7e06', 'a0f59cd4-3a53-48c8-adde-b6f321d75336', '925a0459-b626-41ba-911d-dbd6fbf5835f', 'b6c82fa0-7f82-443f-8651-1e321e96df44', '1906997e-c3ca-4c97-a68a-6b446150f1e4', '0bf3f6ca-e2b6-4b5b-9fcd-cca4d5dcac2c', '1d950f58-596c-4dc3-89e5-a2ce11f05e0e', 'b2f67998-699c-46ff-90b0-2cd45673d641', '81048657-c301-486f-b2b7-673d1389bf47', '1c8e1e46-ada5-4675-98fc-27f92ac74fd3', 'b953c55d-d406-4524-b329-af6f7cc7e6b3', '06e609a1-edfc-47ea-87d5-ce303fe4990c', 'a710c98f-eacb-43db-8acf-9e40911fed72', 'e13990d1-a196-4006-913b-dc95fe8f46b3', '3ee3271d-445c-4291-900b-1672003e337f', '3d7b3ce0-8d2c-4e22-97ef-cb710c67c54a', 'b3d30f8e-14ce-4dff-af4e-9695bb34557a', '65164db0-4726-40d4-ad91-d9265dccfb50', '3c96f68a-67d8-40de-a589-241167c0300c', '2bef1c62-2205-4e79-ac80-10c4ebc71147', 'ac800c35-1f87-4336-ba24-848ac99aed55', '71aa20bc-79d7-481e-bc20-6ec82e9c9309', '76eed893-c00b-484d-a17c-d49e97063c17', '4297011b-929b-4138-8482-9f9ee1cb94cd', '6e48c8b5-6bb2-42ac-abd6-2b055cef8285', 'd96299a6-6b61-4763-8cd7-23c1e0c00d29', '0621e72e-cea4-45df-89a1-f0ca06dc59c0', '006b6d08-daf3-42de-82ef-b9dec225bcf4', 'd0c3ad63-e6d0-433a-89c6-e7ab20abc02f', '6866a388-3111-4359-9cf9-fa6ff49036a0', 'c2d3056f-369b-41c4-8a7f-1693a29ef9a3', 'f9ce4852-e1f4-4296-8743-6a5bedfc67fa', 'be79c846-5bb0-4478-b319-4b7fa9895575', '41541cad-4d82-4e90-bb87-2585ba7cbb85', '76328c30-19f2-42c8-8e1c-e1eb7c21fee0', 'a951e9b7-9514-4e1f-a80e-a1fc038f0d8f', '73e7bb38-d814-4580-ab69-fc2182187d31', '233c7016-8bbf-4492-87af-81b0336247e7', 'e034f929-e97b-4e0c-b9b7-c4c1aafc8159', 'e6427f29-9ac1-4cd5-acc1-7c30554c65c0', '303db863-75b0-444d-ab8a-95d18aaf46b2', '06020062-88b0-4679-93a4-4cc96680852d', 'd6ac496e-5b5a-4efc-9970-5a2e6cc7ad20', '14f41e57-8100-45a2-9211-9ebf1749b105', '138c8f9b-f2df-46fa-9cd4-6f9793b27825', 'acfe362b-12f1-4123-a537-62a90733086f', '1f613f9b-2afd-4158-88fc-1b296171cf36', 'f4af4d8b-d98b-49bf-a0ce-161be04826c4', '4a99ac84-e638-4c75-8f36-a040a229d352', '1bf02ae4-3a42-4509-b877-ad588b794669', 'b0733e09-2d7c-4152-a16d-20374ee39a9e', '14d57c45-45ec-4d41-9c8c-1b500e282592', '6ec69a51-3a67-49d5-8374-4febeafb2046', 'dd26258a-6af2-4c62-b5f9-6355ba14ba0d', 'a384e589-ced3-482e-a7bd-561c7a11ff3e', '29f8af05-4e02-4517-b0b8-d50184cb02a8', '72de0ab5-d122-4a61-9f57-9776afadecc0', '0f643c04-d329-47b3-89df-f5595571cecd', '11228820-79f5-465d-a212-f80449f5d9b1', '56aab711-d457-4071-87d9-f127f2181493', 'e3d7f4fc-65bc-464a-9348-51fa03512cf9', '9a94a140-b728-422c-904a-f3f989853214', '7ffb21ef-ffff-43a3-8d6b-751a9e9eadb7', 'edbd4a09-c362-45d9-95f1-13eb3fe291c2', '120f87f3-3b32-4dfa-be57-fd8bf3414775', '4a2dcb4d-a363-43fe-b76b-8723328686b5', '21819427-ecf6-4f66-93a8-3dc7e2800a74', 'eed384ac-ef44-435c-92a4-fc8e37b1668b', '57bdaa9e-2e63-4787-ad7d-834decfe1b30', '2e6f2c2a-28aa-4d91-b3ee-14b1d91ed228', '5d368106-e7a6-4344-9ded-4f8dbda35526', '43c78741-6e13-4ee4-be55-bf426c38bca3', 'fefe360f-993c-4e24-aec0-33df7b77763e', '992200e5-417c-4343-bd26-3ca03d3ce785', 'fc39410a-b3e2-4291-8496-e50fff5876ea', '5df3abf0-f262-498c-978c-3b78e4eb91cb', 'f260232c-d378-447f-8176-3a718f53213e', '44c4813d-262f-49e7-836e-20a0469062ca', 'd63e820b-00f3-4cfc-9d7a-ccf7c35113a0', 'a47c770a-c107-4fda-8e6b-99ad7ebed84b', '87738ff7-c0fc-44b1-a9cb-01ede2f31c94', '98e1c95a-4a9e-46a2-bd4f-4a6b5ec0c957', 'ad681e9b-a225-45bf-88df-f5a7d229a44e', '346d010d-2c8d-48a4-9307-7823d4f80350', '75ef18ba-e55f-43a2-b6e2-978f2c53b491', '4c70d16f-ea06-4a6c-aa20-62b3d1fe844d', 'bdc3eb36-33cf-475f-ae7d-71503c41b331', '61413bf4-49ca-405a-948b-3280f21ee0b5', 'b6b64671-ca4b-44c9-bacb-61f101b5efff', '39d39a6d-b1d9-4285-ae4e-aea7777e4433', '4f936db0-9c42-438a-a3c6-05b7fd47b461', 'f0e7292c-187e-405d-b459-19e3fca42acf', 'acebf7bf-765b-4046-aa44-925c8162d9d0', '0bfb5be3-5bb4-4dc3-a777-c28099164008', '1528ffc2-13b8-4882-9342-165e1b7ddd95', 'a52a4d95-2f14-4d68-8ae0-35837e20c0c8', '4719a964-1a79-4db0-9474-db929519a4be', '1fb597a4-a01c-4ba9-9f33-68ccb98cf120', '748fa2a1-e813-4096-9bc5-afd5ca75b033', 'f756f04a-d462-4f10-bd3e-26eeda9e557b', '9d7528dc-9bed-400e-bdb6-f000b3cb0e85', 'a3a157e5-4de8-49e0-ac67-41c74176dff2', '3595b27e-a526-48ed-8e03-d74cdbad916e', '100ed05b-6e7a-496c-88dc-4f82a9419415', 'ea471f5f-f1e8-47b5-9e20-8b6e667841a8', '7591fc47-c5b5-4029-8fc0-8f253e5a235a', '16917ae0-6e5b-4de9-b793-13e0615ec6fe', '47aa99f6-10d7-4488-b7e6-c95af2849044', '03af8fb7-bdd8-463d-9f84-4ff4e60243c8', 'b4d14821-f83f-4c09-b620-7ea6b3ee0620', 'b903d596-3884-4789-9a29-fb54957e4ec6', 'bc78d465-e4a6-47f2-a757-243e13c0ecef', '6324258a-e49f-4ca3-a996-1a8a1c18468f', 'b1608747-b8df-4b6b-94d8-caf7186e02e1', 'a603cee1-4a4b-4ade-8f43-dc12557ea85c', '7e6e1fb7-f6b4-4128-bf39-0f721788ae2b', '13e2cee1-13cb-49b4-ae39-014ab560187e', '6a13dcf4-f13a-4a14-9c66-4298972f097b', '03e2b276-c7c3-4e2c-83a7-f032f957f42d', '0bfa1061-f5ef-4c88-a31c-94728b671df1', '7ccdb2d9-495f-4668-abe6-71d0ba9039c8', 'a3f714a1-9af5-4683-904a-57e3073b014b', '69f741a1-e4ec-4e3e-bb96-4b124409983e', 'a2dac52f-a7ed-49c2-a65e-dd0763e3031f', 'e72ce75c-6a00-4e34-a406-d29f57bd040c', '558bdf38-1c1d-4308-ab09-315f74460b93', '65a3aa00-acd1-4f46-9dcc-4a8cb010cae6', '824407ad-4555-4b20-b28c-35dd8e115e14', 'bdca5e17-3d57-43f0-9587-334fc6b13659', 'e1a13f93-51d7-41db-9efd-4ccb537d6b47', 'bf9e36a1-6b43-49c6-8e50-809258458ea3', '7c3825e7-e286-4bcb-aad5-b2241d472895', '6a254b78-b2f5-4842-af73-0adc6086aefc', '7ff8198d-1841-48ad-9685-6dcf50c556d1', '1b707e05-81a4-4db2-ae26-55ca3b5e4a9a', '97f4a805-52df-4246-b2d6-42609729292b', '26a91594-16bd-45b1-be9d-f1f73d238a65', '54457063-4e58-4d0c-af80-d6ec738c3ae4', 'f00b138c-a86a-4048-be81-a35279320c8b', '1de6ac1a-78ef-4b7f-9622-bda7fa589fb3', 'b7272c1d-542e-4747-876b-561d3312cf00', '020c54d8-321e-4dea-a250-293295296653', 'e8ea3d4c-6537-4319-94ab-c4da7b678b37', '775a731a-47cf-4d70-b1f1-18a11fdb0f14', 'b67d5234-141d-4db1-8cc1-1545b7d9cc5c', 'eb6cece8-cbf8-4edb-8018-d725c97290bf', '409e0790-2f10-4406-8930-07308bb2eaed', 'b8af25fb-246c-4bb5-9288-41371a42ab20', '7e3e817d-29b0-4e29-aff5-782b11ee1c39', 'fb82aae1-abd1-49bc-b1c9-59d40d6d6a58', '7903aaad-5325-4721-b67f-8c5f8278c794', '49a17176-fbb2-4368-b202-ac814e3a7d69', 'df670e2c-bfd0-41b0-aa36-e151e73bc726', '441f5df3-46f5-4b23-933d-f64afde92e9e', '7b780930-76c3-450b-9fca-64456aefdadc', '4ba87154-b25a-440d-b1a6-17e223b98452', 'd7acb73c-74e3-45fe-a813-badd0480e183', 'f4475250-45f9-443b-a19b-9d5a14a986c3', '1426f0d0-96d3-4982-999c-129459fbfb6f', '73cb4bbe-4906-4e22-8c11-8a5c46f1817f', '19f384e6-d962-4644-ac10-ea38142ec522', '9a09bb8c-dbf1-48ab-89a1-7be170889d52', 'd49b4cbd-dece-4d2a-ad91-d854f04dafbc', '40030b1f-8034-440f-a3de-07a096733f30', '02f8bb0e-f429-49e8-9901-7638c55faec5', 'a756a673-d652-4ac0-9c37-dec1ca806b1c', '32796f1e-539c-42a4-ba1a-5b1f5fda0f3a', '450d79ca-2139-4bc3-baa9-5532c191b9a4', '8b8c235d-a12f-43c8-ab7b-6fa01a45a31f', 'ebee84a3-9cb4-496a-900f-91a978a2d74b', 'e9ad0c8d-e178-46e7-8148-4305ded72ee9', '76d6f364-2ac1-4b39-9f98-dfc7d2596ec9', 'f9bbb1c9-1913-4e63-acc5-07b7830cf35c', 'e32bf3d8-e853-42f2-b09b-40db9dfc6197', 'eb0596fb-872a-4155-8ee8-66fa824ae63b', '6e3e41a4-6e05-45b7-ac1a-0414bd7fc99b', '3689011f-101d-4d81-99df-f0acdeeae649', '71ac1843-b622-4224-94db-7991dfcbe636', '56ba819e-ff44-4be2-8856-b80b63d598fc', '9cf86df3-f2e6-4a06-af92-cb63829f024c', '58554127-7bc5-479a-a7fd-da70a5e8e14a', '4e4f7a39-285e-4818-bc56-9b362f2a942a', '1de70b3b-10a7-4ead-bae6-36e3fa40ae14', '0a31cfe1-a643-4bca-ad68-1aa6ac77ddd1', 'e8a85e75-eaf2-4d1f-9ad5-3e9fae552853', '80bd4642-0f2a-4b4c-8032-0bab71a77470', 'efd118d7-8ead-4875-a592-894a2761affd', '3c793745-23dd-4b22-86db-095d7d8ca924', '1b343d28-e1a4-4375-a665-fd6a26e09ccc', '07b5c09e-f823-4d9c-8381-83e93f0ccd3b', '698c682b-3658-48e2-9516-41422430b197', 'd40ce2bc-b4ed-4ebe-9691-c60fffca59f2', 'e843aa85-d782-423f-8df2-0a8c48b2c87f', 'a0699c08-9468-4369-8a83-fd34472f995f', '6124281a-22a5-442c-98ff-c6a78aca38a7', '1bca58c3-5f2c-41f3-8e29-832a1e228b68', 'bd432577-ebce-4556-a14a-2cbf95ca9d8a', 'b9967ae0-9f87-4450-8e9e-b2e596716613', '024f575f-a655-4abd-b030-2ef95e5cdb04', '604ad8a0-bc32-4509-829a-a2f7ab944027', '5fa78f27-ce1a-4bd0-8f2f-cfe5d55774b0', '09a7e3e7-a4c7-4a64-9866-c3574b9d2c3c', 'c43572a4-1dc0-4ba5-84f4-34ccf6f5f1a6', 'eb99ecd7-3342-4699-8483-6bc74ece223c', 'eeedda46-9bda-4440-bc1e-422f0053157c', '142bd622-0555-47dd-8fa7-a406cf089dff', 'd0f290d0-78cf-489b-8cc6-dd3d1a97a3e7', 'd87e69e5-888e-42b7-a498-8ae093866624', '33eb66b7-0550-45f4-9013-29f4565be66b', '4bff1986-bdff-41ac-b272-e28974767576', '379f82a8-1708-4d18-8bfc-cdde7d31c52a', 'b1134911-92c6-40f6-9109-064fa281b244', 'ab0dbe95-8584-4686-ba1e-6d1650891518', '0cebd2b6-8d13-459e-b981-2bd7b200b5b5', 'e1e07936-627b-44ac-8173-a494f3a18bf8', '81078043-2e97-4783-a251-f829c2478f6a', '736e2c0e-98fe-40ae-a7e8-9c11cec3dc11', '38b638ee-d1ee-44c6-a74a-df0a544e5920', '491285db-d036-4ddf-94db-67a993f7fd33', '7059e620-2f0e-4540-858a-9da9b4c13af6', 'b21796f4-3254-4f2f-acd2-5794e449dc1e', '49ab3d20-5445-4820-81c6-eecdb8564ff6', 'e12dc4df-d191-4a7a-a6b1-ae33e34438d7', '51a1cf1b-bf1f-4353-8778-280dfc05141d', '12ea8f98-b06c-4916-b8ba-326b9e152d7e', 'e0a4c872-e823-49dd-a1db-094865c8eeb7', 'f0053f2a-ac3f-47ad-81af-097236b750d1', '3577c8c4-ea31-4a7e-a259-02850f79e303', 'b6bb7502-44f8-49bb-b1d2-540920c4848c', '87872bc4-32cd-47e4-8b1e-090909c55038', '513f43ad-5ea0-436b-9651-506c7172171c', '8b007911-955f-4fc3-a538-3aa2755e6294', '62b9b6e6-fcaf-4aaa-a22b-5d580a9b9846', '9c062cdd-e9cd-4d40-9591-ba74ee2c79de', '84096089-2b47-4502-bf5d-2eb0b10baf2f', '7c0917d9-46f2-47c3-8931-7bf5b1016f81', 'c2c47886-14ff-4370-8ac9-6a20a6709380', '3985085c-1912-4962-9de1-e26fdcf5095e', '050b20c6-0e33-4a5f-b9c3-10a47bc74c51', '1e2087d6-4256-4a0b-86cb-1f97e4430854', '5d4d6545-a2d2-4069-ab57-feec875a9d31', '8d5efdbf-48ea-4dc9-a602-830845e079ff', '84654259-d4ff-4255-b598-2a295fe35490', 'acd0f5a6-6a79-45ce-8aa9-2c352c6a76af', 'e8752bb5-30c3-4288-ba6f-32cbad0dc99b', 'e9b6e8ad-827a-43dc-8eaa-987d0aa15702', '9d2f2593-71d9-4080-ade7-fe7bb800768a', 'c0640df0-3ebb-4448-b351-3fcb9196e2df', '6725be6d-20bf-440a-9b62-364ac05a8479', 'f3e86b59-edf2-486c-a0ab-8f8bb7d890ca', '7d2f2c90-8d93-43cb-9561-b9f35dd64bf9', 'ec835a06-c0cd-40b9-98d8-1cb0ea8d1214', '3c94c503-8eaa-49a0-8945-7d5186c9d2a7', '55ca7505-cf41-4dcb-83e5-bd82ac17237c', '6062220e-6951-42f0-9240-34ff1a31b1fb', '60d0a071-53b1-4ccb-af3e-9bb769d78237', '0367758a-d943-4ab1-aaaa-25307ed3e14b', '3753fbdc-90ba-4f62-be5a-f72726279e46', 'f2707d4a-79a7-459d-87ae-4db30887adec', '1dfcf43d-d9b7-495d-9247-11872df6cfc4', '7cfe9ee8-61c7-4390-acaa-f96016822c07', 'f3573eba-4a80-41b8-8253-29c0356ba37d', 'e61c408f-4be6-4523-9273-1872d028a849', '3abe7860-2eef-4d3c-8f49-b18b276f3928', '3d95ad82-43e9-46f8-9b19-9404f3e5c7e3', 'ac0ac073-cd75-43d2-85c0-5def147fcf87', '982b8b1d-67d6-4f73-8826-f8f0217dfcf2', '099bee98-61a7-4ebf-b5e2-fb04e46d1fe9', '200149c0-2985-4476-b10b-5389a29951db', '04fae9fc-396a-48ce-be87-3370f01e126a', '851d6270-19c7-4899-9095-d88eb6b95497', '7f2783e4-273c-4bd5-a333-353c8c74b9cf', '66efe478-585c-446b-9d34-a6a999072d16', 'f6e54ef5-a28a-465c-9592-d3b1dc36c774', '9826787c-d4fd-4a65-a0e3-e0d6d2a6b9f4', 'f219b7af-0408-46c6-acd0-880271148dfd', '621e56dc-3e54-4208-a0c5-c057317f3175', '2120775c-95d9-4db3-99cb-bfc593a83494', 'e3c422ec-f6a4-4f9e-866b-600b5249469d', '8324aa5e-3bb0-422c-ab09-34f333fd55b1', '20c98ec2-760f-4700-974e-54ac11fefaf0', '1bd2d53d-3603-4daa-b631-4bcb46b59fbd', '44552506-8420-4fbd-8d32-269fe3db3e30', 'cff3b414-f13f-4c15-a13d-7b190509a1aa', 'c76f1097-1752-41e7-aa97-2f8d14c33657'], 'errors': 0}\n"
     ]
    }
   ],
   "source": [
    "print(\"\"\"DROP_TABLE\"\"\")\n",
    "print(drop_table(conn, 'tafe_courses'))\n",
    "print(\"\"\"IMPORT_IF_NOT_EXISTS: Should be 1329 records\"\"\")\n",
    "print(import_if_not_exists(TAFE_COURSES_IMPORT_JSON_FILE, 'tafe_courses'))"
   ]
  },
  {
   "cell_type": "code",
   "execution_count": 32,
   "metadata": {
    "collapsed": false
   },
   "outputs": [
    {
     "name": "stdout",
     "output_type": "stream",
     "text": [
      "GET_TABLE_LENGTH: Should be 1329 records\n",
      "1329\n"
     ]
    }
   ],
   "source": [
    "print(\"\"\"GET_TABLE_LENGTH: Should be 1329 records\"\"\")\n",
    "print(get_table_length(conn, 'tafe_courses'))"
   ]
  },
  {
   "cell_type": "markdown",
   "metadata": {},
   "source": [
    "# Load Narrow FOE information into rethinkdb 'narrow_foe' table"
   ]
  },
  {
   "cell_type": "code",
   "execution_count": 39,
   "metadata": {
    "collapsed": false
   },
   "outputs": [],
   "source": [
    "def get_narrow_foes_from(file_name):\n",
    "    \"\"\"Loads a very specific file and returns a list of narrow foes\"\"\"\n",
    "    with open(file_name, 'r') as f:\n",
    "        read_file = f.read()\n",
    "    \n",
    "    narrow_foes = []  # Home for a list of items containing all data for a record required\n",
    "    broad_foes = {}\n",
    "    # Split file data on lines, removing blank lines\n",
    "    lines = read_file.split(\"\\n\")\n",
    "    lines = [line for line in lines if line.strip() != \"\"]\n",
    "\n",
    "    # Iterate over lines and append to #foes an item with keys: \n",
    "    #  code, description, level, broad and narrow\n",
    "    for line in lines:\n",
    "        code, description = line.split(None ,1)  # using None as 1st arg splits on whitespace, \n",
    "        item = {}                                # 2nd arg determines number of times split\n",
    "        item[\"code\"] = code\n",
    "        item[\"description\"] = description\n",
    "        \n",
    "        # Only keep the narrow foes\n",
    "        if len(code) == 2:\n",
    "            broad_foes[code] = description\n",
    "        elif len(code) == 4:\n",
    "            item[\"broad_code\"] = code[:2]\n",
    "            item[\"broad_description\"] = broad_foes[code[:2]]\n",
    "            \n",
    "            narrow_foes.append(item)\n",
    "        \n",
    "    return narrow_foes"
   ]
  },
  {
   "cell_type": "markdown",
   "metadata": {},
   "source": [
    "## Create and Insert narrow_foes into 'narrow_foes'"
   ]
  },
  {
   "cell_type": "code",
   "execution_count": 44,
   "metadata": {
    "collapsed": false
   },
   "outputs": [
    {
     "name": "stdout",
     "output_type": "stream",
     "text": [
      "narrow_foes exists on  test\n"
     ]
    }
   ],
   "source": [
    "narrow_foes = get_narrow_foes_from(ASCED_INPUT_FILE)\n",
    "\n",
    "create_table_if_not_exists(conn, 'narrow_foes')\n",
    "if table_is_empty(conn, 'narrow_foes'):\n",
    "    insert_data_into_table(conn, narrow_foes, 'narrow_foes')"
   ]
  },
  {
   "cell_type": "code",
   "execution_count": 46,
   "metadata": {
    "collapsed": false
   },
   "outputs": [],
   "source": [
    "db_foes = list(r.table('narrow_foes').run(conn))"
   ]
  },
  {
   "cell_type": "code",
   "execution_count": 63,
   "metadata": {
    "collapsed": false
   },
   "outputs": [
    {
     "name": "stdout",
     "output_type": "stream",
     "text": [
      "71\n"
     ]
    }
   ],
   "source": [
    "print(len(db_foes))\n",
    "test_narrow_foe = db_foes[0]"
   ]
  },
  {
   "cell_type": "code",
   "execution_count": 62,
   "metadata": {
    "collapsed": false
   },
   "outputs": [
    {
     "data": {
      "text/plain": [
       "'Diploma of Legal Services'"
      ]
     },
     "execution_count": 62,
     "metadata": {},
     "output_type": "execute_result"
    }
   ],
   "source": [
    "courses_09 = list(r.table('tafe_courses').filter(r.row['ASCED']['code'] == test_narrow_foe['code']).run(conn))\n",
    "\n",
    "courses_09[0]['Course Name']\n",
    "    "
   ]
  },
  {
   "cell_type": "code",
   "execution_count": null,
   "metadata": {
    "collapsed": true
   },
   "outputs": [],
   "source": []
  }
 ],
 "metadata": {
  "kernelspec": {
   "display_name": "Python 2",
   "language": "python",
   "name": "python2"
  },
  "language_info": {
   "codemirror_mode": {
    "name": "ipython",
    "version": 2
   },
   "file_extension": ".py",
   "mimetype": "text/x-python",
   "name": "python",
   "nbconvert_exporter": "python",
   "pygments_lexer": "ipython2",
   "version": "2.7.11"
  }
 },
 "nbformat": 4,
 "nbformat_minor": 0
}
